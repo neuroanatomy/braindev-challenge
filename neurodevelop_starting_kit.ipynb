{
 "cells": [
  {
   "cell_type": "markdown",
   "metadata": {},
   "source": [
    "# Applying ML to neurodevelopmental discorders detection"
   ]
  },
  {
   "cell_type": "code",
   "execution_count": 1,
   "metadata": {},
   "outputs": [],
   "source": [
    "from problem import get_cv\n",
    "from problem import get_all_data\n",
    "\n",
    "import numpy as np\n",
    "import pandas as pd\n",
    "\n",
    "import seaborn as sns\n",
    "import matplotlib.pyplot as plt\n",
    "\n",
    "from sklearn.pipeline import make_pipeline\n",
    "from sklearn.preprocessing import StandardScaler, MinMaxScaler, FunctionTransformer\n",
    "from sklearn.linear_model import LogisticRegression\n",
    "from sklearn.ensemble import RandomForestClassifier\n",
    "from sklearn.model_selection import StratifiedShuffleSplit, train_test_split\n",
    "from sklearn.svm import SVC\n",
    "from sklearn.utils.multiclass import unique_labels\n",
    "from sklearn.base import BaseEstimator, TransformerMixin, ClassifierMixin\n",
    "from sklearn.metrics import roc_auc_score, accuracy_score, roc_curve\n",
    "from sklearn.model_selection import StratifiedShuffleSplit, train_test_split, GridSearchCV, cross_validate\n",
    "from sklearn.utils.multiclass import unique_labels\n",
    "\n",
    "from nilearn.connectome import ConnectivityMeasure"
   ]
  },
  {
   "cell_type": "markdown",
   "metadata": {},
   "source": [
    "## Loading the data"
   ]
  },
  {
   "cell_type": "markdown",
   "metadata": {},
   "source": [
    "We start by downloading the data for both datasets"
   ]
  },
  {
   "cell_type": "code",
   "execution_count": 2,
   "metadata": {},
   "outputs": [],
   "source": [
    "data, labels = get_all_data()"
   ]
  },
  {
   "cell_type": "code",
   "execution_count": 3,
   "metadata": {},
   "outputs": [
    {
     "data": {
      "text/html": [
       "<div>\n",
       "<style scoped>\n",
       "    .dataframe tbody tr th:only-of-type {\n",
       "        vertical-align: middle;\n",
       "    }\n",
       "\n",
       "    .dataframe tbody tr th {\n",
       "        vertical-align: top;\n",
       "    }\n",
       "\n",
       "    .dataframe thead th {\n",
       "        text-align: right;\n",
       "    }\n",
       "</style>\n",
       "<table border=\"1\" class=\"dataframe\">\n",
       "  <thead>\n",
       "    <tr style=\"text-align: right;\">\n",
       "      <th></th>\n",
       "      <th>participants_site</th>\n",
       "      <th>participants_sex</th>\n",
       "      <th>participants_age</th>\n",
       "      <th>participants_dx</th>\n",
       "      <th>participants_dataset</th>\n",
       "      <th>anatomy_lh_bankssts_area</th>\n",
       "      <th>anatomy_lh_caudalanteriorcingulate_area</th>\n",
       "      <th>anatomy_lh_caudalmiddlefrontal_area</th>\n",
       "      <th>anatomy_lh_cuneus_area</th>\n",
       "      <th>anatomy_lh_entorhinal_area</th>\n",
       "      <th>...</th>\n",
       "      <th>fmri_basc197</th>\n",
       "      <th>fmri_basc325</th>\n",
       "      <th>fmri_basc444</th>\n",
       "      <th>fmri_craddock_scorr_mean</th>\n",
       "      <th>fmri_harvard_oxford_cort_prob_2mm</th>\n",
       "      <th>fmri_msdl</th>\n",
       "      <th>fmri_power_2011</th>\n",
       "      <th>fmri_motions</th>\n",
       "      <th>fmri_select</th>\n",
       "      <th>repetition_time</th>\n",
       "    </tr>\n",
       "    <tr>\n",
       "      <th>subject_id</th>\n",
       "      <th></th>\n",
       "      <th></th>\n",
       "      <th></th>\n",
       "      <th></th>\n",
       "      <th></th>\n",
       "      <th></th>\n",
       "      <th></th>\n",
       "      <th></th>\n",
       "      <th></th>\n",
       "      <th></th>\n",
       "      <th></th>\n",
       "      <th></th>\n",
       "      <th></th>\n",
       "      <th></th>\n",
       "      <th></th>\n",
       "      <th></th>\n",
       "      <th></th>\n",
       "      <th></th>\n",
       "      <th></th>\n",
       "      <th></th>\n",
       "      <th></th>\n",
       "    </tr>\n",
       "  </thead>\n",
       "  <tbody>\n",
       "    <tr>\n",
       "      <th>adhd700021</th>\n",
       "      <td>204</td>\n",
       "      <td>F</td>\n",
       "      <td>11.17</td>\n",
       "      <td>1</td>\n",
       "      <td>adhd200</td>\n",
       "      <td>1124</td>\n",
       "      <td>743</td>\n",
       "      <td>2886</td>\n",
       "      <td>1535</td>\n",
       "      <td>589</td>\n",
       "      <td>...</td>\n",
       "      <td>data/fmri_adhd/basc197/adhd700021/run_1/adhd70...</td>\n",
       "      <td>data/fmri_adhd/basc325/adhd700021/run_1/adhd70...</td>\n",
       "      <td>data/fmri_adhd/basc444/adhd700021/run_1/adhd70...</td>\n",
       "      <td>data/fmri_adhd/craddock_scorr_mean/adhd700021/...</td>\n",
       "      <td>data/fmri_adhd/harvard_oxford_cort_prob_2mm/ad...</td>\n",
       "      <td>data/fmri_adhd/msdl/adhd700021/run_1/adhd70002...</td>\n",
       "      <td>data/fmri_adhd/power_2011/adhd700021/run_1/adh...</td>\n",
       "      <td>data/fmri_adhd/motions/adhd700021/run_1/motion...</td>\n",
       "      <td>1</td>\n",
       "      <td>2.0</td>\n",
       "    </tr>\n",
       "    <tr>\n",
       "      <th>adhd242402</th>\n",
       "      <td>204</td>\n",
       "      <td>F</td>\n",
       "      <td>13.24</td>\n",
       "      <td>1</td>\n",
       "      <td>adhd200</td>\n",
       "      <td>1039</td>\n",
       "      <td>595</td>\n",
       "      <td>1966</td>\n",
       "      <td>1568</td>\n",
       "      <td>411</td>\n",
       "      <td>...</td>\n",
       "      <td>data/fmri_adhd/basc197/adhd242402/run_1/adhd24...</td>\n",
       "      <td>data/fmri_adhd/basc325/adhd242402/run_1/adhd24...</td>\n",
       "      <td>data/fmri_adhd/basc444/adhd242402/run_1/adhd24...</td>\n",
       "      <td>data/fmri_adhd/craddock_scorr_mean/adhd242402/...</td>\n",
       "      <td>data/fmri_adhd/harvard_oxford_cort_prob_2mm/ad...</td>\n",
       "      <td>data/fmri_adhd/msdl/adhd242402/run_1/adhd24240...</td>\n",
       "      <td>data/fmri_adhd/power_2011/adhd242402/run_1/adh...</td>\n",
       "      <td>data/fmri_adhd/motions/adhd242402/run_1/motion...</td>\n",
       "      <td>1</td>\n",
       "      <td>2.0</td>\n",
       "    </tr>\n",
       "    <tr>\n",
       "      <th>adhd972340</th>\n",
       "      <td>204</td>\n",
       "      <td>F</td>\n",
       "      <td>13.75</td>\n",
       "      <td>0</td>\n",
       "      <td>adhd200</td>\n",
       "      <td>601</td>\n",
       "      <td>492</td>\n",
       "      <td>1554</td>\n",
       "      <td>1345</td>\n",
       "      <td>455</td>\n",
       "      <td>...</td>\n",
       "      <td>data/fmri_adhd/basc197/adhd972340/run_1/adhd97...</td>\n",
       "      <td>data/fmri_adhd/basc325/adhd972340/run_1/adhd97...</td>\n",
       "      <td>data/fmri_adhd/basc444/adhd972340/run_1/adhd97...</td>\n",
       "      <td>data/fmri_adhd/craddock_scorr_mean/adhd972340/...</td>\n",
       "      <td>data/fmri_adhd/harvard_oxford_cort_prob_2mm/ad...</td>\n",
       "      <td>data/fmri_adhd/msdl/adhd972340/run_1/adhd97234...</td>\n",
       "      <td>data/fmri_adhd/power_2011/adhd972340/run_1/adh...</td>\n",
       "      <td>data/fmri_adhd/motions/adhd972340/run_1/motion...</td>\n",
       "      <td>1</td>\n",
       "      <td>2.0</td>\n",
       "    </tr>\n",
       "    <tr>\n",
       "      <th>adhd055645</th>\n",
       "      <td>204</td>\n",
       "      <td>F</td>\n",
       "      <td>11.18</td>\n",
       "      <td>0</td>\n",
       "      <td>adhd200</td>\n",
       "      <td>699</td>\n",
       "      <td>521</td>\n",
       "      <td>1773</td>\n",
       "      <td>1251</td>\n",
       "      <td>341</td>\n",
       "      <td>...</td>\n",
       "      <td>data/fmri_adhd/basc197/adhd055645/run_1/adhd05...</td>\n",
       "      <td>data/fmri_adhd/basc325/adhd055645/run_1/adhd05...</td>\n",
       "      <td>data/fmri_adhd/basc444/adhd055645/run_1/adhd05...</td>\n",
       "      <td>data/fmri_adhd/craddock_scorr_mean/adhd055645/...</td>\n",
       "      <td>data/fmri_adhd/harvard_oxford_cort_prob_2mm/ad...</td>\n",
       "      <td>data/fmri_adhd/msdl/adhd055645/run_1/adhd05564...</td>\n",
       "      <td>data/fmri_adhd/power_2011/adhd055645/run_1/adh...</td>\n",
       "      <td>data/fmri_adhd/motions/adhd055645/run_1/motion...</td>\n",
       "      <td>1</td>\n",
       "      <td>2.0</td>\n",
       "    </tr>\n",
       "    <tr>\n",
       "      <th>adhd436785</th>\n",
       "      <td>204</td>\n",
       "      <td>F</td>\n",
       "      <td>11.41</td>\n",
       "      <td>1</td>\n",
       "      <td>adhd200</td>\n",
       "      <td>799</td>\n",
       "      <td>605</td>\n",
       "      <td>2564</td>\n",
       "      <td>1688</td>\n",
       "      <td>419</td>\n",
       "      <td>...</td>\n",
       "      <td>data/fmri_adhd/basc197/adhd436785/run_1/adhd43...</td>\n",
       "      <td>data/fmri_adhd/basc325/adhd436785/run_1/adhd43...</td>\n",
       "      <td>data/fmri_adhd/basc444/adhd436785/run_1/adhd43...</td>\n",
       "      <td>data/fmri_adhd/craddock_scorr_mean/adhd436785/...</td>\n",
       "      <td>data/fmri_adhd/harvard_oxford_cort_prob_2mm/ad...</td>\n",
       "      <td>data/fmri_adhd/msdl/adhd436785/run_1/adhd43678...</td>\n",
       "      <td>data/fmri_adhd/power_2011/adhd436785/run_1/adh...</td>\n",
       "      <td>data/fmri_adhd/motions/adhd436785/run_1/motion...</td>\n",
       "      <td>1</td>\n",
       "      <td>2.0</td>\n",
       "    </tr>\n",
       "  </tbody>\n",
       "</table>\n",
       "<p>5 rows × 225 columns</p>\n",
       "</div>"
      ],
      "text/plain": [
       "            participants_site participants_sex  participants_age  \\\n",
       "subject_id                                                         \n",
       "adhd700021                204                F             11.17   \n",
       "adhd242402                204                F             13.24   \n",
       "adhd972340                204                F             13.75   \n",
       "adhd055645                204                F             11.18   \n",
       "adhd436785                204                F             11.41   \n",
       "\n",
       "            participants_dx participants_dataset  anatomy_lh_bankssts_area  \\\n",
       "subject_id                                                                   \n",
       "adhd700021                1              adhd200                      1124   \n",
       "adhd242402                1              adhd200                      1039   \n",
       "adhd972340                0              adhd200                       601   \n",
       "adhd055645                0              adhd200                       699   \n",
       "adhd436785                1              adhd200                       799   \n",
       "\n",
       "            anatomy_lh_caudalanteriorcingulate_area  \\\n",
       "subject_id                                            \n",
       "adhd700021                                      743   \n",
       "adhd242402                                      595   \n",
       "adhd972340                                      492   \n",
       "adhd055645                                      521   \n",
       "adhd436785                                      605   \n",
       "\n",
       "            anatomy_lh_caudalmiddlefrontal_area  anatomy_lh_cuneus_area  \\\n",
       "subject_id                                                                \n",
       "adhd700021                                 2886                    1535   \n",
       "adhd242402                                 1966                    1568   \n",
       "adhd972340                                 1554                    1345   \n",
       "adhd055645                                 1773                    1251   \n",
       "adhd436785                                 2564                    1688   \n",
       "\n",
       "            anatomy_lh_entorhinal_area  ...  \\\n",
       "subject_id                              ...   \n",
       "adhd700021                         589  ...   \n",
       "adhd242402                         411  ...   \n",
       "adhd972340                         455  ...   \n",
       "adhd055645                         341  ...   \n",
       "adhd436785                         419  ...   \n",
       "\n",
       "                                                 fmri_basc197  \\\n",
       "subject_id                                                      \n",
       "adhd700021  data/fmri_adhd/basc197/adhd700021/run_1/adhd70...   \n",
       "adhd242402  data/fmri_adhd/basc197/adhd242402/run_1/adhd24...   \n",
       "adhd972340  data/fmri_adhd/basc197/adhd972340/run_1/adhd97...   \n",
       "adhd055645  data/fmri_adhd/basc197/adhd055645/run_1/adhd05...   \n",
       "adhd436785  data/fmri_adhd/basc197/adhd436785/run_1/adhd43...   \n",
       "\n",
       "                                                 fmri_basc325  \\\n",
       "subject_id                                                      \n",
       "adhd700021  data/fmri_adhd/basc325/adhd700021/run_1/adhd70...   \n",
       "adhd242402  data/fmri_adhd/basc325/adhd242402/run_1/adhd24...   \n",
       "adhd972340  data/fmri_adhd/basc325/adhd972340/run_1/adhd97...   \n",
       "adhd055645  data/fmri_adhd/basc325/adhd055645/run_1/adhd05...   \n",
       "adhd436785  data/fmri_adhd/basc325/adhd436785/run_1/adhd43...   \n",
       "\n",
       "                                                 fmri_basc444  \\\n",
       "subject_id                                                      \n",
       "adhd700021  data/fmri_adhd/basc444/adhd700021/run_1/adhd70...   \n",
       "adhd242402  data/fmri_adhd/basc444/adhd242402/run_1/adhd24...   \n",
       "adhd972340  data/fmri_adhd/basc444/adhd972340/run_1/adhd97...   \n",
       "adhd055645  data/fmri_adhd/basc444/adhd055645/run_1/adhd05...   \n",
       "adhd436785  data/fmri_adhd/basc444/adhd436785/run_1/adhd43...   \n",
       "\n",
       "                                     fmri_craddock_scorr_mean  \\\n",
       "subject_id                                                      \n",
       "adhd700021  data/fmri_adhd/craddock_scorr_mean/adhd700021/...   \n",
       "adhd242402  data/fmri_adhd/craddock_scorr_mean/adhd242402/...   \n",
       "adhd972340  data/fmri_adhd/craddock_scorr_mean/adhd972340/...   \n",
       "adhd055645  data/fmri_adhd/craddock_scorr_mean/adhd055645/...   \n",
       "adhd436785  data/fmri_adhd/craddock_scorr_mean/adhd436785/...   \n",
       "\n",
       "                            fmri_harvard_oxford_cort_prob_2mm  \\\n",
       "subject_id                                                      \n",
       "adhd700021  data/fmri_adhd/harvard_oxford_cort_prob_2mm/ad...   \n",
       "adhd242402  data/fmri_adhd/harvard_oxford_cort_prob_2mm/ad...   \n",
       "adhd972340  data/fmri_adhd/harvard_oxford_cort_prob_2mm/ad...   \n",
       "adhd055645  data/fmri_adhd/harvard_oxford_cort_prob_2mm/ad...   \n",
       "adhd436785  data/fmri_adhd/harvard_oxford_cort_prob_2mm/ad...   \n",
       "\n",
       "                                                    fmri_msdl  \\\n",
       "subject_id                                                      \n",
       "adhd700021  data/fmri_adhd/msdl/adhd700021/run_1/adhd70002...   \n",
       "adhd242402  data/fmri_adhd/msdl/adhd242402/run_1/adhd24240...   \n",
       "adhd972340  data/fmri_adhd/msdl/adhd972340/run_1/adhd97234...   \n",
       "adhd055645  data/fmri_adhd/msdl/adhd055645/run_1/adhd05564...   \n",
       "adhd436785  data/fmri_adhd/msdl/adhd436785/run_1/adhd43678...   \n",
       "\n",
       "                                              fmri_power_2011  \\\n",
       "subject_id                                                      \n",
       "adhd700021  data/fmri_adhd/power_2011/adhd700021/run_1/adh...   \n",
       "adhd242402  data/fmri_adhd/power_2011/adhd242402/run_1/adh...   \n",
       "adhd972340  data/fmri_adhd/power_2011/adhd972340/run_1/adh...   \n",
       "adhd055645  data/fmri_adhd/power_2011/adhd055645/run_1/adh...   \n",
       "adhd436785  data/fmri_adhd/power_2011/adhd436785/run_1/adh...   \n",
       "\n",
       "                                                 fmri_motions  fmri_select  \\\n",
       "subject_id                                                                   \n",
       "adhd700021  data/fmri_adhd/motions/adhd700021/run_1/motion...            1   \n",
       "adhd242402  data/fmri_adhd/motions/adhd242402/run_1/motion...            1   \n",
       "adhd972340  data/fmri_adhd/motions/adhd972340/run_1/motion...            1   \n",
       "adhd055645  data/fmri_adhd/motions/adhd055645/run_1/motion...            1   \n",
       "adhd436785  data/fmri_adhd/motions/adhd436785/run_1/motion...            1   \n",
       "\n",
       "            repetition_time  \n",
       "subject_id                   \n",
       "adhd700021              2.0  \n",
       "adhd242402              2.0  \n",
       "adhd972340              2.0  \n",
       "adhd055645              2.0  \n",
       "adhd436785              2.0  \n",
       "\n",
       "[5 rows x 225 columns]"
      ]
     },
     "execution_count": 3,
     "metadata": {},
     "output_type": "execute_result"
    }
   ],
   "source": [
    "data.head()"
   ]
  },
  {
   "cell_type": "code",
   "execution_count": 4,
   "metadata": {},
   "outputs": [
    {
     "name": "stdout",
     "output_type": "stream",
     "text": [
      "Number of subjects in the dataset: 1671\n"
     ]
    }
   ],
   "source": [
    "print('Number of subjects in the dataset: {}'.format(labels.size))"
   ]
  },
  {
   "cell_type": "code",
   "execution_count": 5,
   "metadata": {},
   "outputs": [
    {
     "data": {
      "text/plain": [
       "participants_dataset\n",
       "abide      1150\n",
       "adhd200     521\n",
       "Name: count, dtype: int64"
      ]
     },
     "execution_count": 5,
     "metadata": {},
     "output_type": "execute_result"
    }
   ],
   "source": [
    "# Number of subjects for each dataset\n",
    "data.participants_dataset.value_counts()"
   ]
  },
  {
   "cell_type": "code",
   "execution_count": 6,
   "metadata": {},
   "outputs": [
    {
     "data": {
      "text/plain": [
       "participants_dx\n",
       "0    939\n",
       "1    732\n",
       "Name: count, dtype: int64"
      ]
     },
     "execution_count": 6,
     "metadata": {},
     "output_type": "execute_result"
    }
   ],
   "source": [
    "# Number of control vs neurodevelopmental disorder subjects for merged data\n",
    "data.participants_dx.value_counts()"
   ]
  },
  {
   "cell_type": "code",
   "execution_count": 7,
   "metadata": {},
   "outputs": [
    {
     "data": {
      "text/plain": [
       "participants_dx\n",
       "0    338\n",
       "1    183\n",
       "Name: count, dtype: int64"
      ]
     },
     "execution_count": 7,
     "metadata": {},
     "output_type": "execute_result"
    }
   ],
   "source": [
    "# Number of control vs neurodevelopmental disorder subjects for ADHD data\n",
    "adhd = data[data['participants_dataset'] == 'adhd200']\n",
    "adhd.participants_dx.value_counts()"
   ]
  },
  {
   "cell_type": "code",
   "execution_count": 8,
   "metadata": {},
   "outputs": [
    {
     "data": {
      "text/plain": [
       "participants_dx\n",
       "0    601\n",
       "1    549\n",
       "Name: count, dtype: int64"
      ]
     },
     "execution_count": 8,
     "metadata": {},
     "output_type": "execute_result"
    }
   ],
   "source": [
    "# Number of control vs neurodevelopmental disorder subjects for ABIDE data\n",
    "abide = data[data['participants_dataset'] == 'abide']\n",
    "abide.participants_dx.value_counts()"
   ]
  },
  {
   "cell_type": "markdown",
   "metadata": {},
   "source": [
    "## Participant features"
   ]
  },
  {
   "cell_type": "code",
   "execution_count": 9,
   "metadata": {},
   "outputs": [
    {
     "data": {
      "text/html": [
       "<div>\n",
       "<style scoped>\n",
       "    .dataframe tbody tr th:only-of-type {\n",
       "        vertical-align: middle;\n",
       "    }\n",
       "\n",
       "    .dataframe tbody tr th {\n",
       "        vertical-align: top;\n",
       "    }\n",
       "\n",
       "    .dataframe thead th {\n",
       "        text-align: right;\n",
       "    }\n",
       "</style>\n",
       "<table border=\"1\" class=\"dataframe\">\n",
       "  <thead>\n",
       "    <tr style=\"text-align: right;\">\n",
       "      <th></th>\n",
       "      <th>participants_site</th>\n",
       "      <th>participants_sex</th>\n",
       "      <th>participants_age</th>\n",
       "      <th>participants_dx</th>\n",
       "      <th>participants_dataset</th>\n",
       "    </tr>\n",
       "    <tr>\n",
       "      <th>subject_id</th>\n",
       "      <th></th>\n",
       "      <th></th>\n",
       "      <th></th>\n",
       "      <th></th>\n",
       "      <th></th>\n",
       "    </tr>\n",
       "  </thead>\n",
       "  <tbody>\n",
       "    <tr>\n",
       "      <th>adhd700021</th>\n",
       "      <td>204</td>\n",
       "      <td>F</td>\n",
       "      <td>11.17</td>\n",
       "      <td>1</td>\n",
       "      <td>adhd200</td>\n",
       "    </tr>\n",
       "    <tr>\n",
       "      <th>adhd242402</th>\n",
       "      <td>204</td>\n",
       "      <td>F</td>\n",
       "      <td>13.24</td>\n",
       "      <td>1</td>\n",
       "      <td>adhd200</td>\n",
       "    </tr>\n",
       "    <tr>\n",
       "      <th>adhd972340</th>\n",
       "      <td>204</td>\n",
       "      <td>F</td>\n",
       "      <td>13.75</td>\n",
       "      <td>0</td>\n",
       "      <td>adhd200</td>\n",
       "    </tr>\n",
       "    <tr>\n",
       "      <th>adhd055645</th>\n",
       "      <td>204</td>\n",
       "      <td>F</td>\n",
       "      <td>11.18</td>\n",
       "      <td>0</td>\n",
       "      <td>adhd200</td>\n",
       "    </tr>\n",
       "    <tr>\n",
       "      <th>adhd436785</th>\n",
       "      <td>204</td>\n",
       "      <td>F</td>\n",
       "      <td>11.41</td>\n",
       "      <td>1</td>\n",
       "      <td>adhd200</td>\n",
       "    </tr>\n",
       "  </tbody>\n",
       "</table>\n",
       "</div>"
      ],
      "text/plain": [
       "            participants_site participants_sex  participants_age  \\\n",
       "subject_id                                                         \n",
       "adhd700021                204                F             11.17   \n",
       "adhd242402                204                F             13.24   \n",
       "adhd972340                204                F             13.75   \n",
       "adhd055645                204                F             11.18   \n",
       "adhd436785                204                F             11.41   \n",
       "\n",
       "            participants_dx participants_dataset  \n",
       "subject_id                                        \n",
       "adhd700021                1              adhd200  \n",
       "adhd242402                1              adhd200  \n",
       "adhd972340                0              adhd200  \n",
       "adhd055645                0              adhd200  \n",
       "adhd436785                1              adhd200  "
      ]
     },
     "execution_count": 9,
     "metadata": {},
     "output_type": "execute_result"
    }
   ],
   "source": [
    "data_participants = data[[col for col in data.columns if col.startswith('participants')]]\n",
    "data_participants.head()"
   ]
  },
  {
   "cell_type": "markdown",
   "metadata": {},
   "source": [
    "## Structural MRI features"
   ]
  },
  {
   "cell_type": "markdown",
   "metadata": {},
   "source": [
    "A set of structural features have been extracted for each subject: (i) normalized brain volume computed using subcortical segmentation of FreeSurfer and (ii) cortical thickness and area for right and left hemisphere of FreeSurfer."
   ]
  },
  {
   "cell_type": "code",
   "execution_count": 10,
   "metadata": {
    "scrolled": true
   },
   "outputs": [
    {
     "data": {
      "text/html": [
       "<div>\n",
       "<style scoped>\n",
       "    .dataframe tbody tr th:only-of-type {\n",
       "        vertical-align: middle;\n",
       "    }\n",
       "\n",
       "    .dataframe tbody tr th {\n",
       "        vertical-align: top;\n",
       "    }\n",
       "\n",
       "    .dataframe thead th {\n",
       "        text-align: right;\n",
       "    }\n",
       "</style>\n",
       "<table border=\"1\" class=\"dataframe\">\n",
       "  <thead>\n",
       "    <tr style=\"text-align: right;\">\n",
       "      <th></th>\n",
       "      <th>anatomy_lh_bankssts_area</th>\n",
       "      <th>anatomy_lh_caudalanteriorcingulate_area</th>\n",
       "      <th>anatomy_lh_caudalmiddlefrontal_area</th>\n",
       "      <th>anatomy_lh_cuneus_area</th>\n",
       "      <th>anatomy_lh_entorhinal_area</th>\n",
       "      <th>anatomy_lh_fusiform_area</th>\n",
       "      <th>anatomy_lh_inferiorparietal_area</th>\n",
       "      <th>anatomy_lh_inferiortemporal_area</th>\n",
       "      <th>anatomy_lh_isthmuscingulate_area</th>\n",
       "      <th>anatomy_lh_lateraloccipital_area</th>\n",
       "      <th>...</th>\n",
       "      <th>anatomy_SupraTentorialVolNotVentVox</th>\n",
       "      <th>anatomy_MaskVol</th>\n",
       "      <th>anatomy_BrainSegVol.to.eTIV</th>\n",
       "      <th>anatomy_MaskVol.to.eTIV</th>\n",
       "      <th>anatomy_lhSurfaceHoles</th>\n",
       "      <th>anatomy_rhSurfaceHoles</th>\n",
       "      <th>anatomy_SurfaceHoles</th>\n",
       "      <th>anatomy_EstimatedTotalIntraCranialVol</th>\n",
       "      <th>anatomy_eTIV</th>\n",
       "      <th>anatomy_select</th>\n",
       "    </tr>\n",
       "    <tr>\n",
       "      <th>subject_id</th>\n",
       "      <th></th>\n",
       "      <th></th>\n",
       "      <th></th>\n",
       "      <th></th>\n",
       "      <th></th>\n",
       "      <th></th>\n",
       "      <th></th>\n",
       "      <th></th>\n",
       "      <th></th>\n",
       "      <th></th>\n",
       "      <th></th>\n",
       "      <th></th>\n",
       "      <th></th>\n",
       "      <th></th>\n",
       "      <th></th>\n",
       "      <th></th>\n",
       "      <th></th>\n",
       "      <th></th>\n",
       "      <th></th>\n",
       "      <th></th>\n",
       "      <th></th>\n",
       "    </tr>\n",
       "  </thead>\n",
       "  <tbody>\n",
       "    <tr>\n",
       "      <th>adhd700021</th>\n",
       "      <td>1124</td>\n",
       "      <td>743</td>\n",
       "      <td>2886</td>\n",
       "      <td>1535</td>\n",
       "      <td>589</td>\n",
       "      <td>3731</td>\n",
       "      <td>4220</td>\n",
       "      <td>3491</td>\n",
       "      <td>890</td>\n",
       "      <td>4989</td>\n",
       "      <td>...</td>\n",
       "      <td>1034028</td>\n",
       "      <td>1544179</td>\n",
       "      <td>0.810540</td>\n",
       "      <td>1.055481</td>\n",
       "      <td>46</td>\n",
       "      <td>51</td>\n",
       "      <td>97</td>\n",
       "      <td>1.463009e+06</td>\n",
       "      <td>1.463009e+06</td>\n",
       "      <td>1</td>\n",
       "    </tr>\n",
       "    <tr>\n",
       "      <th>adhd242402</th>\n",
       "      <td>1039</td>\n",
       "      <td>595</td>\n",
       "      <td>1966</td>\n",
       "      <td>1568</td>\n",
       "      <td>411</td>\n",
       "      <td>2769</td>\n",
       "      <td>4235</td>\n",
       "      <td>2698</td>\n",
       "      <td>885</td>\n",
       "      <td>5246</td>\n",
       "      <td>...</td>\n",
       "      <td>942270</td>\n",
       "      <td>1413593</td>\n",
       "      <td>0.819411</td>\n",
       "      <td>1.071676</td>\n",
       "      <td>61</td>\n",
       "      <td>70</td>\n",
       "      <td>131</td>\n",
       "      <td>1.319049e+06</td>\n",
       "      <td>1.319049e+06</td>\n",
       "      <td>1</td>\n",
       "    </tr>\n",
       "    <tr>\n",
       "      <th>adhd972340</th>\n",
       "      <td>601</td>\n",
       "      <td>492</td>\n",
       "      <td>1554</td>\n",
       "      <td>1345</td>\n",
       "      <td>455</td>\n",
       "      <td>2452</td>\n",
       "      <td>3761</td>\n",
       "      <td>2273</td>\n",
       "      <td>837</td>\n",
       "      <td>3741</td>\n",
       "      <td>...</td>\n",
       "      <td>788484</td>\n",
       "      <td>1279934</td>\n",
       "      <td>0.769160</td>\n",
       "      <td>1.063212</td>\n",
       "      <td>91</td>\n",
       "      <td>61</td>\n",
       "      <td>152</td>\n",
       "      <td>1.203837e+06</td>\n",
       "      <td>1.203837e+06</td>\n",
       "      <td>1</td>\n",
       "    </tr>\n",
       "    <tr>\n",
       "      <th>adhd055645</th>\n",
       "      <td>699</td>\n",
       "      <td>521</td>\n",
       "      <td>1773</td>\n",
       "      <td>1251</td>\n",
       "      <td>341</td>\n",
       "      <td>2628</td>\n",
       "      <td>4026</td>\n",
       "      <td>2882</td>\n",
       "      <td>746</td>\n",
       "      <td>3951</td>\n",
       "      <td>...</td>\n",
       "      <td>823592</td>\n",
       "      <td>1303815</td>\n",
       "      <td>0.806114</td>\n",
       "      <td>1.079301</td>\n",
       "      <td>42</td>\n",
       "      <td>42</td>\n",
       "      <td>84</td>\n",
       "      <td>1.208018e+06</td>\n",
       "      <td>1.208018e+06</td>\n",
       "      <td>1</td>\n",
       "    </tr>\n",
       "    <tr>\n",
       "      <th>adhd436785</th>\n",
       "      <td>799</td>\n",
       "      <td>605</td>\n",
       "      <td>2564</td>\n",
       "      <td>1688</td>\n",
       "      <td>419</td>\n",
       "      <td>2508</td>\n",
       "      <td>5048</td>\n",
       "      <td>3616</td>\n",
       "      <td>1215</td>\n",
       "      <td>5496</td>\n",
       "      <td>...</td>\n",
       "      <td>1023783</td>\n",
       "      <td>1532056</td>\n",
       "      <td>0.843271</td>\n",
       "      <td>1.094796</td>\n",
       "      <td>59</td>\n",
       "      <td>81</td>\n",
       "      <td>140</td>\n",
       "      <td>1.399398e+06</td>\n",
       "      <td>1.399398e+06</td>\n",
       "      <td>1</td>\n",
       "    </tr>\n",
       "  </tbody>\n",
       "</table>\n",
       "<p>5 rows × 208 columns</p>\n",
       "</div>"
      ],
      "text/plain": [
       "            anatomy_lh_bankssts_area  anatomy_lh_caudalanteriorcingulate_area  \\\n",
       "subject_id                                                                      \n",
       "adhd700021                      1124                                      743   \n",
       "adhd242402                      1039                                      595   \n",
       "adhd972340                       601                                      492   \n",
       "adhd055645                       699                                      521   \n",
       "adhd436785                       799                                      605   \n",
       "\n",
       "            anatomy_lh_caudalmiddlefrontal_area  anatomy_lh_cuneus_area  \\\n",
       "subject_id                                                                \n",
       "adhd700021                                 2886                    1535   \n",
       "adhd242402                                 1966                    1568   \n",
       "adhd972340                                 1554                    1345   \n",
       "adhd055645                                 1773                    1251   \n",
       "adhd436785                                 2564                    1688   \n",
       "\n",
       "            anatomy_lh_entorhinal_area  anatomy_lh_fusiform_area  \\\n",
       "subject_id                                                         \n",
       "adhd700021                         589                      3731   \n",
       "adhd242402                         411                      2769   \n",
       "adhd972340                         455                      2452   \n",
       "adhd055645                         341                      2628   \n",
       "adhd436785                         419                      2508   \n",
       "\n",
       "            anatomy_lh_inferiorparietal_area  \\\n",
       "subject_id                                     \n",
       "adhd700021                              4220   \n",
       "adhd242402                              4235   \n",
       "adhd972340                              3761   \n",
       "adhd055645                              4026   \n",
       "adhd436785                              5048   \n",
       "\n",
       "            anatomy_lh_inferiortemporal_area  \\\n",
       "subject_id                                     \n",
       "adhd700021                              3491   \n",
       "adhd242402                              2698   \n",
       "adhd972340                              2273   \n",
       "adhd055645                              2882   \n",
       "adhd436785                              3616   \n",
       "\n",
       "            anatomy_lh_isthmuscingulate_area  \\\n",
       "subject_id                                     \n",
       "adhd700021                               890   \n",
       "adhd242402                               885   \n",
       "adhd972340                               837   \n",
       "adhd055645                               746   \n",
       "adhd436785                              1215   \n",
       "\n",
       "            anatomy_lh_lateraloccipital_area  ...  \\\n",
       "subject_id                                    ...   \n",
       "adhd700021                              4989  ...   \n",
       "adhd242402                              5246  ...   \n",
       "adhd972340                              3741  ...   \n",
       "adhd055645                              3951  ...   \n",
       "adhd436785                              5496  ...   \n",
       "\n",
       "            anatomy_SupraTentorialVolNotVentVox  anatomy_MaskVol  \\\n",
       "subject_id                                                         \n",
       "adhd700021                              1034028          1544179   \n",
       "adhd242402                               942270          1413593   \n",
       "adhd972340                               788484          1279934   \n",
       "adhd055645                               823592          1303815   \n",
       "adhd436785                              1023783          1532056   \n",
       "\n",
       "            anatomy_BrainSegVol.to.eTIV  anatomy_MaskVol.to.eTIV  \\\n",
       "subject_id                                                         \n",
       "adhd700021                     0.810540                 1.055481   \n",
       "adhd242402                     0.819411                 1.071676   \n",
       "adhd972340                     0.769160                 1.063212   \n",
       "adhd055645                     0.806114                 1.079301   \n",
       "adhd436785                     0.843271                 1.094796   \n",
       "\n",
       "            anatomy_lhSurfaceHoles  anatomy_rhSurfaceHoles  \\\n",
       "subject_id                                                   \n",
       "adhd700021                      46                      51   \n",
       "adhd242402                      61                      70   \n",
       "adhd972340                      91                      61   \n",
       "adhd055645                      42                      42   \n",
       "adhd436785                      59                      81   \n",
       "\n",
       "            anatomy_SurfaceHoles  anatomy_EstimatedTotalIntraCranialVol  \\\n",
       "subject_id                                                                \n",
       "adhd700021                    97                           1.463009e+06   \n",
       "adhd242402                   131                           1.319049e+06   \n",
       "adhd972340                   152                           1.203837e+06   \n",
       "adhd055645                    84                           1.208018e+06   \n",
       "adhd436785                   140                           1.399398e+06   \n",
       "\n",
       "            anatomy_eTIV  anatomy_select  \n",
       "subject_id                                \n",
       "adhd700021  1.463009e+06               1  \n",
       "adhd242402  1.319049e+06               1  \n",
       "adhd972340  1.203837e+06               1  \n",
       "adhd055645  1.208018e+06               1  \n",
       "adhd436785  1.399398e+06               1  \n",
       "\n",
       "[5 rows x 208 columns]"
      ]
     },
     "execution_count": 10,
     "metadata": {},
     "output_type": "execute_result"
    }
   ],
   "source": [
    "data_anatomy = data[[col for col in data.columns if col.startswith('anatomy')]]\n",
    "data_anatomy.head()"
   ]
  },
  {
   "cell_type": "markdown",
   "metadata": {},
   "source": [
    "Note that the column `anatomy_select` contain a label affected during a manual quality check (i.e. `0` and `3` reject, `1` accept, `2` accept with reserve). This column can be used during training to exclude noisy data for instance."
   ]
  },
  {
   "cell_type": "code",
   "execution_count": 11,
   "metadata": {},
   "outputs": [
    {
     "data": {
      "text/plain": [
       "subject_id\n",
       "adhd700021    1\n",
       "adhd242402    1\n",
       "adhd972340    1\n",
       "adhd055645    1\n",
       "adhd436785    1\n",
       "Name: anatomy_select, dtype: int64"
      ]
     },
     "execution_count": 11,
     "metadata": {},
     "output_type": "execute_result"
    }
   ],
   "source": [
    "data_anatomy['anatomy_select'].head()"
   ]
  },
  {
   "cell_type": "markdown",
   "metadata": {},
   "source": [
    "## Functional MRI features"
   ]
  },
  {
   "cell_type": "code",
   "execution_count": 12,
   "metadata": {},
   "outputs": [
    {
     "data": {
      "text/html": [
       "<div>\n",
       "<style scoped>\n",
       "    .dataframe tbody tr th:only-of-type {\n",
       "        vertical-align: middle;\n",
       "    }\n",
       "\n",
       "    .dataframe tbody tr th {\n",
       "        vertical-align: top;\n",
       "    }\n",
       "\n",
       "    .dataframe thead th {\n",
       "        text-align: right;\n",
       "    }\n",
       "</style>\n",
       "<table border=\"1\" class=\"dataframe\">\n",
       "  <thead>\n",
       "    <tr style=\"text-align: right;\">\n",
       "      <th></th>\n",
       "      <th>fmri_basc064</th>\n",
       "      <th>fmri_basc122</th>\n",
       "      <th>fmri_basc197</th>\n",
       "      <th>fmri_basc325</th>\n",
       "      <th>fmri_basc444</th>\n",
       "      <th>fmri_craddock_scorr_mean</th>\n",
       "      <th>fmri_harvard_oxford_cort_prob_2mm</th>\n",
       "      <th>fmri_msdl</th>\n",
       "      <th>fmri_power_2011</th>\n",
       "      <th>fmri_motions</th>\n",
       "      <th>fmri_select</th>\n",
       "    </tr>\n",
       "    <tr>\n",
       "      <th>subject_id</th>\n",
       "      <th></th>\n",
       "      <th></th>\n",
       "      <th></th>\n",
       "      <th></th>\n",
       "      <th></th>\n",
       "      <th></th>\n",
       "      <th></th>\n",
       "      <th></th>\n",
       "      <th></th>\n",
       "      <th></th>\n",
       "      <th></th>\n",
       "    </tr>\n",
       "  </thead>\n",
       "  <tbody>\n",
       "    <tr>\n",
       "      <th>adhd700021</th>\n",
       "      <td>data/fmri_adhd/basc064/adhd700021/run_1/adhd70...</td>\n",
       "      <td>data/fmri_adhd/basc122/adhd700021/run_1/adhd70...</td>\n",
       "      <td>data/fmri_adhd/basc197/adhd700021/run_1/adhd70...</td>\n",
       "      <td>data/fmri_adhd/basc325/adhd700021/run_1/adhd70...</td>\n",
       "      <td>data/fmri_adhd/basc444/adhd700021/run_1/adhd70...</td>\n",
       "      <td>data/fmri_adhd/craddock_scorr_mean/adhd700021/...</td>\n",
       "      <td>data/fmri_adhd/harvard_oxford_cort_prob_2mm/ad...</td>\n",
       "      <td>data/fmri_adhd/msdl/adhd700021/run_1/adhd70002...</td>\n",
       "      <td>data/fmri_adhd/power_2011/adhd700021/run_1/adh...</td>\n",
       "      <td>data/fmri_adhd/motions/adhd700021/run_1/motion...</td>\n",
       "      <td>1</td>\n",
       "    </tr>\n",
       "    <tr>\n",
       "      <th>adhd242402</th>\n",
       "      <td>data/fmri_adhd/basc064/adhd242402/run_1/adhd24...</td>\n",
       "      <td>data/fmri_adhd/basc122/adhd242402/run_1/adhd24...</td>\n",
       "      <td>data/fmri_adhd/basc197/adhd242402/run_1/adhd24...</td>\n",
       "      <td>data/fmri_adhd/basc325/adhd242402/run_1/adhd24...</td>\n",
       "      <td>data/fmri_adhd/basc444/adhd242402/run_1/adhd24...</td>\n",
       "      <td>data/fmri_adhd/craddock_scorr_mean/adhd242402/...</td>\n",
       "      <td>data/fmri_adhd/harvard_oxford_cort_prob_2mm/ad...</td>\n",
       "      <td>data/fmri_adhd/msdl/adhd242402/run_1/adhd24240...</td>\n",
       "      <td>data/fmri_adhd/power_2011/adhd242402/run_1/adh...</td>\n",
       "      <td>data/fmri_adhd/motions/adhd242402/run_1/motion...</td>\n",
       "      <td>1</td>\n",
       "    </tr>\n",
       "    <tr>\n",
       "      <th>adhd972340</th>\n",
       "      <td>data/fmri_adhd/basc064/adhd972340/run_1/adhd97...</td>\n",
       "      <td>data/fmri_adhd/basc122/adhd972340/run_1/adhd97...</td>\n",
       "      <td>data/fmri_adhd/basc197/adhd972340/run_1/adhd97...</td>\n",
       "      <td>data/fmri_adhd/basc325/adhd972340/run_1/adhd97...</td>\n",
       "      <td>data/fmri_adhd/basc444/adhd972340/run_1/adhd97...</td>\n",
       "      <td>data/fmri_adhd/craddock_scorr_mean/adhd972340/...</td>\n",
       "      <td>data/fmri_adhd/harvard_oxford_cort_prob_2mm/ad...</td>\n",
       "      <td>data/fmri_adhd/msdl/adhd972340/run_1/adhd97234...</td>\n",
       "      <td>data/fmri_adhd/power_2011/adhd972340/run_1/adh...</td>\n",
       "      <td>data/fmri_adhd/motions/adhd972340/run_1/motion...</td>\n",
       "      <td>1</td>\n",
       "    </tr>\n",
       "    <tr>\n",
       "      <th>adhd055645</th>\n",
       "      <td>data/fmri_adhd/basc064/adhd055645/run_1/adhd05...</td>\n",
       "      <td>data/fmri_adhd/basc122/adhd055645/run_1/adhd05...</td>\n",
       "      <td>data/fmri_adhd/basc197/adhd055645/run_1/adhd05...</td>\n",
       "      <td>data/fmri_adhd/basc325/adhd055645/run_1/adhd05...</td>\n",
       "      <td>data/fmri_adhd/basc444/adhd055645/run_1/adhd05...</td>\n",
       "      <td>data/fmri_adhd/craddock_scorr_mean/adhd055645/...</td>\n",
       "      <td>data/fmri_adhd/harvard_oxford_cort_prob_2mm/ad...</td>\n",
       "      <td>data/fmri_adhd/msdl/adhd055645/run_1/adhd05564...</td>\n",
       "      <td>data/fmri_adhd/power_2011/adhd055645/run_1/adh...</td>\n",
       "      <td>data/fmri_adhd/motions/adhd055645/run_1/motion...</td>\n",
       "      <td>1</td>\n",
       "    </tr>\n",
       "    <tr>\n",
       "      <th>adhd436785</th>\n",
       "      <td>data/fmri_adhd/basc064/adhd436785/run_1/adhd43...</td>\n",
       "      <td>data/fmri_adhd/basc122/adhd436785/run_1/adhd43...</td>\n",
       "      <td>data/fmri_adhd/basc197/adhd436785/run_1/adhd43...</td>\n",
       "      <td>data/fmri_adhd/basc325/adhd436785/run_1/adhd43...</td>\n",
       "      <td>data/fmri_adhd/basc444/adhd436785/run_1/adhd43...</td>\n",
       "      <td>data/fmri_adhd/craddock_scorr_mean/adhd436785/...</td>\n",
       "      <td>data/fmri_adhd/harvard_oxford_cort_prob_2mm/ad...</td>\n",
       "      <td>data/fmri_adhd/msdl/adhd436785/run_1/adhd43678...</td>\n",
       "      <td>data/fmri_adhd/power_2011/adhd436785/run_1/adh...</td>\n",
       "      <td>data/fmri_adhd/motions/adhd436785/run_1/motion...</td>\n",
       "      <td>1</td>\n",
       "    </tr>\n",
       "  </tbody>\n",
       "</table>\n",
       "</div>"
      ],
      "text/plain": [
       "                                                 fmri_basc064  \\\n",
       "subject_id                                                      \n",
       "adhd700021  data/fmri_adhd/basc064/adhd700021/run_1/adhd70...   \n",
       "adhd242402  data/fmri_adhd/basc064/adhd242402/run_1/adhd24...   \n",
       "adhd972340  data/fmri_adhd/basc064/adhd972340/run_1/adhd97...   \n",
       "adhd055645  data/fmri_adhd/basc064/adhd055645/run_1/adhd05...   \n",
       "adhd436785  data/fmri_adhd/basc064/adhd436785/run_1/adhd43...   \n",
       "\n",
       "                                                 fmri_basc122  \\\n",
       "subject_id                                                      \n",
       "adhd700021  data/fmri_adhd/basc122/adhd700021/run_1/adhd70...   \n",
       "adhd242402  data/fmri_adhd/basc122/adhd242402/run_1/adhd24...   \n",
       "adhd972340  data/fmri_adhd/basc122/adhd972340/run_1/adhd97...   \n",
       "adhd055645  data/fmri_adhd/basc122/adhd055645/run_1/adhd05...   \n",
       "adhd436785  data/fmri_adhd/basc122/adhd436785/run_1/adhd43...   \n",
       "\n",
       "                                                 fmri_basc197  \\\n",
       "subject_id                                                      \n",
       "adhd700021  data/fmri_adhd/basc197/adhd700021/run_1/adhd70...   \n",
       "adhd242402  data/fmri_adhd/basc197/adhd242402/run_1/adhd24...   \n",
       "adhd972340  data/fmri_adhd/basc197/adhd972340/run_1/adhd97...   \n",
       "adhd055645  data/fmri_adhd/basc197/adhd055645/run_1/adhd05...   \n",
       "adhd436785  data/fmri_adhd/basc197/adhd436785/run_1/adhd43...   \n",
       "\n",
       "                                                 fmri_basc325  \\\n",
       "subject_id                                                      \n",
       "adhd700021  data/fmri_adhd/basc325/adhd700021/run_1/adhd70...   \n",
       "adhd242402  data/fmri_adhd/basc325/adhd242402/run_1/adhd24...   \n",
       "adhd972340  data/fmri_adhd/basc325/adhd972340/run_1/adhd97...   \n",
       "adhd055645  data/fmri_adhd/basc325/adhd055645/run_1/adhd05...   \n",
       "adhd436785  data/fmri_adhd/basc325/adhd436785/run_1/adhd43...   \n",
       "\n",
       "                                                 fmri_basc444  \\\n",
       "subject_id                                                      \n",
       "adhd700021  data/fmri_adhd/basc444/adhd700021/run_1/adhd70...   \n",
       "adhd242402  data/fmri_adhd/basc444/adhd242402/run_1/adhd24...   \n",
       "adhd972340  data/fmri_adhd/basc444/adhd972340/run_1/adhd97...   \n",
       "adhd055645  data/fmri_adhd/basc444/adhd055645/run_1/adhd05...   \n",
       "adhd436785  data/fmri_adhd/basc444/adhd436785/run_1/adhd43...   \n",
       "\n",
       "                                     fmri_craddock_scorr_mean  \\\n",
       "subject_id                                                      \n",
       "adhd700021  data/fmri_adhd/craddock_scorr_mean/adhd700021/...   \n",
       "adhd242402  data/fmri_adhd/craddock_scorr_mean/adhd242402/...   \n",
       "adhd972340  data/fmri_adhd/craddock_scorr_mean/adhd972340/...   \n",
       "adhd055645  data/fmri_adhd/craddock_scorr_mean/adhd055645/...   \n",
       "adhd436785  data/fmri_adhd/craddock_scorr_mean/adhd436785/...   \n",
       "\n",
       "                            fmri_harvard_oxford_cort_prob_2mm  \\\n",
       "subject_id                                                      \n",
       "adhd700021  data/fmri_adhd/harvard_oxford_cort_prob_2mm/ad...   \n",
       "adhd242402  data/fmri_adhd/harvard_oxford_cort_prob_2mm/ad...   \n",
       "adhd972340  data/fmri_adhd/harvard_oxford_cort_prob_2mm/ad...   \n",
       "adhd055645  data/fmri_adhd/harvard_oxford_cort_prob_2mm/ad...   \n",
       "adhd436785  data/fmri_adhd/harvard_oxford_cort_prob_2mm/ad...   \n",
       "\n",
       "                                                    fmri_msdl  \\\n",
       "subject_id                                                      \n",
       "adhd700021  data/fmri_adhd/msdl/adhd700021/run_1/adhd70002...   \n",
       "adhd242402  data/fmri_adhd/msdl/adhd242402/run_1/adhd24240...   \n",
       "adhd972340  data/fmri_adhd/msdl/adhd972340/run_1/adhd97234...   \n",
       "adhd055645  data/fmri_adhd/msdl/adhd055645/run_1/adhd05564...   \n",
       "adhd436785  data/fmri_adhd/msdl/adhd436785/run_1/adhd43678...   \n",
       "\n",
       "                                              fmri_power_2011  \\\n",
       "subject_id                                                      \n",
       "adhd700021  data/fmri_adhd/power_2011/adhd700021/run_1/adh...   \n",
       "adhd242402  data/fmri_adhd/power_2011/adhd242402/run_1/adh...   \n",
       "adhd972340  data/fmri_adhd/power_2011/adhd972340/run_1/adh...   \n",
       "adhd055645  data/fmri_adhd/power_2011/adhd055645/run_1/adh...   \n",
       "adhd436785  data/fmri_adhd/power_2011/adhd436785/run_1/adh...   \n",
       "\n",
       "                                                 fmri_motions  fmri_select  \n",
       "subject_id                                                                  \n",
       "adhd700021  data/fmri_adhd/motions/adhd700021/run_1/motion...            1  \n",
       "adhd242402  data/fmri_adhd/motions/adhd242402/run_1/motion...            1  \n",
       "adhd972340  data/fmri_adhd/motions/adhd972340/run_1/motion...            1  \n",
       "adhd055645  data/fmri_adhd/motions/adhd055645/run_1/motion...            1  \n",
       "adhd436785  data/fmri_adhd/motions/adhd436785/run_1/motion...            1  "
      ]
     },
     "execution_count": 12,
     "metadata": {},
     "output_type": "execute_result"
    }
   ],
   "source": [
    "data_functional = data[[col for col in data.columns if col.startswith('fmri')]]\n",
    "data_functional.head()"
   ]
  },
  {
   "cell_type": "markdown",
   "metadata": {},
   "source": [
    "Unlike the anatomical and participants data, the available data are filename to CSV files in which the time-series information are stored. We show in the next section how to read and extract meaningful information from those data."
   ]
  },
  {
   "cell_type": "markdown",
   "metadata": {},
   "source": [
    "Similarly to the anatomical data, the column `fmri_select` gives information about the manual quality check."
   ]
  },
  {
   "cell_type": "code",
   "execution_count": 13,
   "metadata": {},
   "outputs": [
    {
     "data": {
      "text/plain": [
       "subject_id\n",
       "adhd700021    1\n",
       "adhd242402    1\n",
       "adhd972340    1\n",
       "adhd055645    1\n",
       "adhd436785    1\n",
       "Name: fmri_select, dtype: int64"
      ]
     },
     "execution_count": 13,
     "metadata": {},
     "output_type": "execute_result"
    }
   ],
   "source": [
    "data_functional['fmri_select'].head()"
   ]
  },
  {
   "cell_type": "markdown",
   "metadata": {},
   "source": [
    "## Evaluations functions "
   ]
  },
  {
   "cell_type": "markdown",
   "metadata": {},
   "source": [
    "The framework is evaluated with a cross-validation approach. The metrics used are the AUC under the ROC and the accuracy."
   ]
  },
  {
   "cell_type": "code",
   "execution_count": 14,
   "metadata": {
    "scrolled": false
   },
   "outputs": [],
   "source": [
    "def evaluation(X, y):\n",
    "    pipe = make_pipeline(FeatureExtractor(), Classifier())\n",
    "    cv = get_cv(X, y)\n",
    "    results = cross_validate(pipe, X, y, scoring=('roc_auc', 'accuracy'), cv=cv,\n",
    "                             verbose=1, return_train_score=True,\n",
    "                             n_jobs=1)\n",
    "    \n",
    "    return results"
   ]
  },
  {
   "cell_type": "markdown",
   "metadata": {},
   "source": [
    "## Using only anatomical features"
   ]
  },
  {
   "cell_type": "markdown",
   "metadata": {},
   "source": [
    "#### FeatureExtractor"
   ]
  },
  {
   "cell_type": "markdown",
   "metadata": {},
   "source": [
    "The available structural data can be used directly to make some classification. In this regard, we will use a feature extractor (i.e. `FeatureExtractor`). This extractor will only select only the anatomical features, dropping any information regarding the fMRI-based features."
   ]
  },
  {
   "cell_type": "code",
   "execution_count": 15,
   "metadata": {},
   "outputs": [],
   "source": [
    "class FeatureExtractor(BaseEstimator, TransformerMixin):\n",
    "    def fit(self, X_df, y):\n",
    "        return self\n",
    "\n",
    "    def transform(self, X_df):\n",
    "        # get only the anatomical information\n",
    "        X = X_df[[col for col in X_df.columns if col.startswith('anatomy')]]\n",
    "        return X.drop(columns='anatomy_select')"
   ]
  },
  {
   "cell_type": "markdown",
   "metadata": {},
   "source": [
    "#### Classifier"
   ]
  },
  {
   "cell_type": "markdown",
   "metadata": {},
   "source": [
    "We propose to use a logistic classifier preceded from a scaler which will remove the mean and standard deviation computed on the training set."
   ]
  },
  {
   "cell_type": "code",
   "execution_count": 16,
   "metadata": {},
   "outputs": [],
   "source": [
    "class Classifier(BaseEstimator, ClassifierMixin):\n",
    "    def __init__(self):\n",
    "        self.clf = make_pipeline(StandardScaler(), LogisticRegression(C=1., solver='liblinear'))\n",
    "\n",
    "    def fit(self, X, y):\n",
    "        self.clf.fit(X, y)\n",
    "        self.classes_ = unique_labels(y)\n",
    "        return self\n",
    "        \n",
    "    def predict(self, X):\n",
    "        return self.clf.predict(X)\n",
    "\n",
    "    def predict_proba(self, X):\n",
    "        return self.clf.predict_proba(X)\n"
   ]
  },
  {
   "cell_type": "markdown",
   "metadata": {},
   "source": [
    "We can test locally our pipeline using `evaluation` function that we defined earlier."
   ]
  },
  {
   "cell_type": "code",
   "execution_count": 17,
   "metadata": {
    "scrolled": true
   },
   "outputs": [
    {
     "name": "stdout",
     "output_type": "stream",
     "text": [
      "accuracy score :  0.6095617529880478\n",
      "roc_auc score :  0.6023325437557573\n"
     ]
    }
   ],
   "source": [
    "# splitting data in train and test sets \n",
    "X_train, X_test, y_train, y_test = train_test_split(data,labels, \n",
    "                                                    test_size=0.3, \n",
    "                                                    random_state=101) \n",
    "\n",
    "# creating a pipe using the make_pipeline method \n",
    "pipe = make_pipeline(FeatureExtractor(), \n",
    "                     Classifier()) \n",
    "  \n",
    "#fitting data into the model \n",
    "pipe.fit(X_train, y_train)\n",
    "  \n",
    "# predicting values \n",
    "y_pred = pipe.predict(X_test) \n",
    "  \n",
    "# calculating accuracy score \n",
    "accuracy = accuracy_score(y_pred,y_test)\n",
    "roc_auc = roc_auc_score(y_pred,y_test)\n",
    "print('accuracy score : ',accuracy)\n",
    "print('roc_auc score : ',roc_auc)"
   ]
  },
  {
   "cell_type": "code",
   "execution_count": 18,
   "metadata": {},
   "outputs": [
    {
     "name": "stderr",
     "output_type": "stream",
     "text": [
      "[Parallel(n_jobs=1)]: Using backend SequentialBackend with 1 concurrent workers.\n"
     ]
    },
    {
     "name": "stdout",
     "output_type": "stream",
     "text": [
      "Training score ROC-AUC: 0.800 +- 0.006\n",
      "Validation score ROC-AUC: 0.661 +- 0.030 \n",
      "\n",
      "Training score accuracy: 0.726 +- 0.008\n",
      "Validation score accuracy: 0.632 +- 0.027\n"
     ]
    },
    {
     "name": "stderr",
     "output_type": "stream",
     "text": [
      "[Parallel(n_jobs=1)]: Done   8 out of   8 | elapsed:    1.0s finished\n"
     ]
    }
   ],
   "source": [
    "results_anat = evaluation(data, labels)\n",
    "\n",
    "print(\"Training score ROC-AUC: {:.3f} +- {:.3f}\".format(np.mean(results_anat['train_roc_auc']),\n",
    "                                                        np.std(results_anat['train_roc_auc'])))\n",
    "print(\"Validation score ROC-AUC: {:.3f} +- {:.3f} \\n\".format(np.mean(results_anat['test_roc_auc']),\n",
    "                                                          np.std(results_anat['test_roc_auc'])))\n",
    "\n",
    "print(\"Training score accuracy: {:.3f} +- {:.3f}\".format(np.mean(results_anat['train_accuracy']),\n",
    "                                                         np.std(results_anat['train_accuracy'])))\n",
    "print(\"Validation score accuracy: {:.3f} +- {:.3f}\".format(np.mean(results_anat['test_accuracy']),\n",
    "                                                           np.std(results_anat['test_accuracy'])))"
   ]
  },
  {
   "cell_type": "markdown",
   "metadata": {},
   "source": [
    "## fMRI-derived features"
   ]
  },
  {
   "cell_type": "code",
   "execution_count": 19,
   "metadata": {},
   "outputs": [],
   "source": [
    "def _load_fmri(fmri_filenames):\n",
    "    \"\"\"Load time-series extracted from the fMRI using a specific atlas.\"\"\"\n",
    "    return np.array([pd.read_csv(subject_filename,\n",
    "                                 header=None).values\n",
    "                     for subject_filename in fmri_filenames], dtype=object)\n",
    "\n",
    "\n",
    "class FeatureExtractor(BaseEstimator, TransformerMixin):\n",
    "    def __init__(self):\n",
    "        # make a transformer which will load the time series and compute the\n",
    "        # connectome matrix\n",
    "        self.transformer_fmri = make_pipeline(\n",
    "            FunctionTransformer(func=_load_fmri, validate=False),\n",
    "            ConnectivityMeasure(kind='tangent', vectorize=True))\n",
    "        \n",
    "    def fit(self, X_df, y):\n",
    "        # get only the time series for the MSDL atlas\n",
    "        fmri_filenames = X_df['fmri_msdl']\n",
    "        self.transformer_fmri.fit(fmri_filenames, y)\n",
    "        return self\n",
    "\n",
    "    def transform(self, X_df):\n",
    "        fmri_filenames = X_df['fmri_msdl']\n",
    "        return self.transformer_fmri.transform(fmri_filenames)\n"
   ]
  },
  {
   "cell_type": "code",
   "execution_count": 20,
   "metadata": {},
   "outputs": [],
   "source": [
    "class Classifier(BaseEstimator, ClassifierMixin):\n",
    "    def __init__(self):\n",
    "        self.clf = make_pipeline(StandardScaler(), LogisticRegression(C=1., solver='liblinear'))\n",
    "\n",
    "    def fit(self, X, y):\n",
    "        self.clf.fit(X, y)\n",
    "        self.classes_ = unique_labels(y)\n",
    "        return self\n",
    "       \n",
    "    def predict(self, X):\n",
    "        return self.clf.predict(X)\n",
    "\n",
    "    def predict_proba(self, X):\n",
    "        return self.clf.predict_proba(X)\n"
   ]
  },
  {
   "cell_type": "code",
   "execution_count": 21,
   "metadata": {},
   "outputs": [
    {
     "name": "stderr",
     "output_type": "stream",
     "text": [
      "[Parallel(n_jobs=1)]: Using backend SequentialBackend with 1 concurrent workers.\n"
     ]
    },
    {
     "name": "stdout",
     "output_type": "stream",
     "text": [
      "Training score ROC-AUC: 1.000 +- 0.000\n",
      "Validation score ROC-AUC: 0.598 +- 0.037 \n",
      "\n",
      "Training score accuracy: 1.000 +- 0.001\n",
      "Validation score accuracy: 0.584 +- 0.025\n"
     ]
    },
    {
     "name": "stderr",
     "output_type": "stream",
     "text": [
      "[Parallel(n_jobs=1)]: Done   8 out of   8 | elapsed:  2.9min finished\n"
     ]
    }
   ],
   "source": [
    "results = evaluation(data, labels)\n",
    "\n",
    "print(\"Training score ROC-AUC: {:.3f} +- {:.3f}\".format(np.mean(results['train_roc_auc']),\n",
    "                                                        np.std(results['train_roc_auc'])))\n",
    "print(\"Validation score ROC-AUC: {:.3f} +- {:.3f} \\n\".format(np.mean(results['test_roc_auc']),\n",
    "                                                          np.std(results['test_roc_auc'])))\n",
    "\n",
    "print(\"Training score accuracy: {:.3f} +- {:.3f}\".format(np.mean(results['train_accuracy']),\n",
    "                                                         np.std(results['train_accuracy'])))\n",
    "print(\"Validation score accuracy: {:.3f} +- {:.3f}\".format(np.mean(results['test_accuracy']),\n",
    "                                                           np.std(results['test_accuracy'])))"
   ]
  },
  {
   "cell_type": "markdown",
   "metadata": {},
   "source": [
    "## More elaborate pipeline: combining anatomy and fMRI"
   ]
  },
  {
   "cell_type": "code",
   "execution_count": 22,
   "metadata": {},
   "outputs": [],
   "source": [
    "def _load_fmri(fmri_filenames):\n",
    "    \"\"\"Load time-series extracted from the fMRI using a specific atlas.\"\"\"\n",
    "    return np.array([pd.read_csv(subject_filename,\n",
    "                                 header=None).values\n",
    "                     for subject_filename in fmri_filenames], dtype=object)\n",
    "\n",
    "\n",
    "class FeatureExtractor(BaseEstimator, TransformerMixin):\n",
    "    def __init__(self):\n",
    "        # make a transformer which will load the time series and compute the\n",
    "        # connectome matrix\n",
    "        self.transformer_fmri = make_pipeline(\n",
    "            FunctionTransformer(func=_load_fmri, validate=False),\n",
    "            ConnectivityMeasure(kind='tangent', vectorize=True))\n",
    "    \n",
    "    def fit(self, X_df, y):\n",
    "        fmri_filenames = X_df['fmri_msdl']\n",
    "        self.transformer_fmri.fit(fmri_filenames, y)\n",
    "        return self\n",
    "\n",
    "    def transform(self, X_df):\n",
    "        fmri_filenames = X_df['fmri_msdl']\n",
    "        X_connectome = self.transformer_fmri.transform(fmri_filenames)\n",
    "        X_connectome = pd.DataFrame(X_connectome, index=X_df.index)\n",
    "        X_connectome.columns = ['connectome_{}'.format(i)\n",
    "                                for i in range(X_connectome.columns.size)]\n",
    "        # get the anatomical information\n",
    "        X_anatomy = X_df[[col for col in X_df.columns\n",
    "                          if col.startswith('anatomy')]]\n",
    "        X_anatomy = X_anatomy.drop(columns='anatomy_select')\n",
    "        # concatenate both matrices\n",
    "        return pd.concat([X_connectome, X_anatomy], axis=1)\n"
   ]
  },
  {
   "cell_type": "markdown",
   "metadata": {},
   "source": [
    "We will create a classifier (i.e. a random forest classifier) which will used both connectome and anatomical features."
   ]
  },
  {
   "cell_type": "code",
   "execution_count": 23,
   "metadata": {},
   "outputs": [],
   "source": [
    "class Classifier(BaseEstimator, ClassifierMixin):\n",
    "    def __init__(self):\n",
    "        self.clf = RandomForestClassifier(n_estimators=100, n_jobs=-1)\n",
    "\n",
    "    def fit(self, X, y):\n",
    "        self.clf.fit(X, y)\n",
    "        self.classes_ = unique_labels(y)\n",
    "        return self\n",
    "    \n",
    "    def predict(self, X):\n",
    "        return self.clf.predict(X)\n",
    "\n",
    "    def predict_proba(self, X):\n",
    "        return self.clf.predict_proba(X)\n"
   ]
  },
  {
   "cell_type": "code",
   "execution_count": 24,
   "metadata": {},
   "outputs": [
    {
     "name": "stderr",
     "output_type": "stream",
     "text": [
      "[Parallel(n_jobs=1)]: Using backend SequentialBackend with 1 concurrent workers.\n"
     ]
    },
    {
     "name": "stdout",
     "output_type": "stream",
     "text": [
      "Training score ROC-AUC: 1.000 +- 0.000\n",
      "Validation score ROC-AUC: 0.672 +- 0.018 \n",
      "\n",
      "Training score accuracy: 1.000 +- 0.000\n",
      "Validation score accuracy: 0.613 +- 0.014\n"
     ]
    },
    {
     "name": "stderr",
     "output_type": "stream",
     "text": [
      "[Parallel(n_jobs=1)]: Done   8 out of   8 | elapsed:  3.0min finished\n"
     ]
    }
   ],
   "source": [
    "results = evaluation(data, labels)\n",
    "\n",
    "print(\"Training score ROC-AUC: {:.3f} +- {:.3f}\".format(np.mean(results['train_roc_auc']),\n",
    "                                                        np.std(results['train_roc_auc'])))\n",
    "print(\"Validation score ROC-AUC: {:.3f} +- {:.3f} \\n\".format(np.mean(results['test_roc_auc']),\n",
    "                                                          np.std(results['test_roc_auc'])))\n",
    "\n",
    "print(\"Training score accuracy: {:.3f} +- {:.3f}\".format(np.mean(results['train_accuracy']),\n",
    "                                                         np.std(results['train_accuracy'])))\n",
    "print(\"Validation score accuracy: {:.3f} +- {:.3f}\".format(np.mean(results['test_accuracy']),\n",
    "                                                           np.std(results['test_accuracy'])))"
   ]
  },
  {
   "cell_type": "markdown",
   "metadata": {},
   "source": [
    "We can propose a\n",
    "more complex classifier than the previous one. We will train 2 single classifiers independetly on the sMRI-derived and fMRI-derived features. Then, a meta-classifier will be used to combine both information. We left out some data to be able to train the meta-classifier."
   ]
  },
  {
   "cell_type": "code",
   "execution_count": 25,
   "metadata": {},
   "outputs": [],
   "source": [
    "class Classifier(BaseEstimator, ClassifierMixin):\n",
    "    def __init__(self):\n",
    "        self.clf_connectome = make_pipeline(StandardScaler(),\n",
    "                                            LogisticRegression(C=1., solver='liblinear'))\n",
    "        self.clf_anatomy = make_pipeline(StandardScaler(),\n",
    "                                         LogisticRegression(C=1., solver='liblinear'))\n",
    "        self.meta_clf = LogisticRegression(C=1., solver='liblinear')\n",
    "\n",
    "    def fit(self, X, y):\n",
    "        X_anatomy = X[[col for col in X.columns if col.startswith('anatomy')]]\n",
    "        X_connectome = X[[col for col in X.columns\n",
    "                          if col.startswith('connectome')]]\n",
    "        train_idx, validation_idx = train_test_split(range(y.size),\n",
    "                                                     test_size=0.33,\n",
    "                                                     shuffle=True,\n",
    "                                                     random_state=42)\n",
    "        X_anatomy_train = X_anatomy.iloc[train_idx]\n",
    "        X_anatomy_validation = X_anatomy.iloc[validation_idx]\n",
    "        X_connectome_train = X_connectome.iloc[train_idx]\n",
    "        X_connectome_validation = X_connectome.iloc[validation_idx]\n",
    "        y_train = y[train_idx]\n",
    "        y_validation = y[validation_idx]\n",
    "\n",
    "        self.clf_connectome.fit(X_connectome_train, y_train)\n",
    "        self.clf_anatomy.fit(X_anatomy_train, y_train)\n",
    "\n",
    "        y_connectome_pred = self.clf_connectome.predict_proba(\n",
    "            X_connectome_validation)\n",
    "        y_anatomy_pred = self.clf_anatomy.predict_proba(\n",
    "            X_anatomy_validation)\n",
    "\n",
    "        self.meta_clf.fit(\n",
    "            np.concatenate([y_connectome_pred, y_anatomy_pred], axis=1),\n",
    "            y_validation)\n",
    "        self.classes_ = unique_labels(y)\n",
    "        return self\n",
    "    \n",
    "    def predict(self, X):\n",
    "        X_anatomy = X[[col for col in X.columns if col.startswith('anatomy')]]\n",
    "        X_connectome = X[[col for col in X.columns\n",
    "                          if col.startswith('connectome')]]\n",
    "\n",
    "        y_anatomy_pred = self.clf_anatomy.predict_proba(X_anatomy)\n",
    "        y_connectome_pred = self.clf_connectome.predict_proba(X_connectome)\n",
    "\n",
    "        return self.meta_clf.predict(\n",
    "            np.concatenate([y_connectome_pred, y_anatomy_pred], axis=1))\n",
    "\n",
    "    def predict_proba(self, X):\n",
    "        X_anatomy = X[[col for col in X.columns if col.startswith('anatomy')]]\n",
    "        X_connectome = X[[col for col in X.columns\n",
    "                          if col.startswith('connectome')]]\n",
    "\n",
    "        y_anatomy_pred = self.clf_anatomy.predict_proba(X_anatomy)\n",
    "        y_connectome_pred = self.clf_connectome.predict_proba(X_connectome)\n",
    "\n",
    "        return self.meta_clf.predict_proba(\n",
    "            np.concatenate([y_connectome_pred, y_anatomy_pred], axis=1))\n"
   ]
  },
  {
   "cell_type": "code",
   "execution_count": 26,
   "metadata": {},
   "outputs": [
    {
     "name": "stderr",
     "output_type": "stream",
     "text": [
      "[Parallel(n_jobs=1)]: Using backend SequentialBackend with 1 concurrent workers.\n"
     ]
    },
    {
     "name": "stdout",
     "output_type": "stream",
     "text": [
      "Training score ROC-AUC: 0.890 +- 0.024\n",
      "Validation score ROC-AUC: 0.660 +- 0.046 \n",
      "\n",
      "Training score accuracy: 0.805 +- 0.035\n",
      "Validation score accuracy: 0.615 +- 0.025\n"
     ]
    },
    {
     "name": "stderr",
     "output_type": "stream",
     "text": [
      "[Parallel(n_jobs=1)]: Done   8 out of   8 | elapsed:  2.9min finished\n"
     ]
    }
   ],
   "source": [
    "results = evaluation(data, labels)\n",
    "\n",
    "print(\"Training score ROC-AUC: {:.3f} +- {:.3f}\".format(np.mean(results['train_roc_auc']),\n",
    "                                                        np.std(results['train_roc_auc'])))\n",
    "print(\"Validation score ROC-AUC: {:.3f} +- {:.3f} \\n\".format(np.mean(results['test_roc_auc']),\n",
    "                                                          np.std(results['test_roc_auc'])))\n",
    "\n",
    "print(\"Training score accuracy: {:.3f} +- {:.3f}\".format(np.mean(results['train_accuracy']),\n",
    "                                                         np.std(results['train_accuracy'])))\n",
    "print(\"Validation score accuracy: {:.3f} +- {:.3f}\".format(np.mean(results['test_accuracy']),\n",
    "                                                           np.std(results['test_accuracy'])))"
   ]
  }
 ],
 "metadata": {
  "celltoolbar": "Raw Cell Format",
  "kernelspec": {
   "display_name": "Python 3",
   "language": "python",
   "name": "python3"
  },
  "language_info": {
   "codemirror_mode": {
    "name": "ipython",
    "version": 3
   },
   "file_extension": ".py",
   "mimetype": "text/x-python",
   "name": "python",
   "nbconvert_exporter": "python",
   "pygments_lexer": "ipython3",
   "version": "3.9.18"
  }
 },
 "nbformat": 4,
 "nbformat_minor": 2
}
