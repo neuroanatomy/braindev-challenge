{
 "cells": [
  {
   "cell_type": "markdown",
   "metadata": {},
   "source": [
    "# Applying ML to neurodevelopmental discorders detection"
   ]
  },
  {
   "cell_type": "code",
   "execution_count": 1,
   "metadata": {},
   "outputs": [],
   "source": [
    "%load_ext autoreload\n",
    "%autoreload 2\n",
    "import warnings\n",
    "warnings.filterwarnings(\"ignore\")\n",
    "import seaborn as sns\n",
    "import numpy as np\n",
    "import pandas as pd\n",
    "import matplotlib.pyplot as plt\n",
    "import plotly.express as px\n",
    "\n",
    "from problem import get_cv\n",
    "from problem import get_all_data\n",
    "from problem import split_data\n",
    "\n",
    "from download_data import fetch_fmri_time_series\n",
    "\n",
    "from sklearn.pipeline import make_pipeline\n",
    "from sklearn.model_selection import cross_validate\n",
    "from sklearn import preprocessing\n",
    "from sklearn.preprocessing import StandardScaler, MinMaxScaler, FunctionTransformer\n",
    "from sklearn.linear_model import LogisticRegression\n",
    "from sklearn.ensemble import RandomForestClassifier\n",
    "from sklearn.utils.multiclass import unique_labels\n",
    "from sklearn.base import BaseEstimator, TransformerMixin\n",
    "from sklearn.metrics import roc_auc_score, accuracy_score, roc_curve\n",
    "from sklearn.model_selection import train_test_split\n",
    "from sklearn.base import BaseEstimator\n",
    "from sklearn.svm import SVC\n",
    "from sklearn.model_selection import GridSearchCV\n",
    "from sklearn.utils.multiclass import unique_labels\n",
    "\n",
    "from nilearn.connectome import ConnectivityMeasure"
   ]
  },
  {
   "cell_type": "markdown",
   "metadata": {},
   "source": [
    "## Loading the data"
   ]
  },
  {
   "cell_type": "markdown",
   "metadata": {},
   "source": [
    "We start by downloading the data for both datasets"
   ]
  },
  {
   "cell_type": "code",
   "execution_count": 2,
   "metadata": {},
   "outputs": [],
   "source": [
    "data, labels = get_all_data()"
   ]
  },
  {
   "cell_type": "code",
   "execution_count": 3,
   "metadata": {},
   "outputs": [
    {
     "data": {
      "text/html": [
       "<div>\n",
       "<style scoped>\n",
       "    .dataframe tbody tr th:only-of-type {\n",
       "        vertical-align: middle;\n",
       "    }\n",
       "\n",
       "    .dataframe tbody tr th {\n",
       "        vertical-align: top;\n",
       "    }\n",
       "\n",
       "    .dataframe thead th {\n",
       "        text-align: right;\n",
       "    }\n",
       "</style>\n",
       "<table border=\"1\" class=\"dataframe\">\n",
       "  <thead>\n",
       "    <tr style=\"text-align: right;\">\n",
       "      <th></th>\n",
       "      <th>participants_site</th>\n",
       "      <th>participants_sex</th>\n",
       "      <th>participants_age</th>\n",
       "      <th>participants_dx</th>\n",
       "      <th>participants_dataset</th>\n",
       "      <th>anatomy_lh_bankssts_area</th>\n",
       "      <th>anatomy_lh_caudalanteriorcingulate_area</th>\n",
       "      <th>anatomy_lh_caudalmiddlefrontal_area</th>\n",
       "      <th>anatomy_lh_cuneus_area</th>\n",
       "      <th>anatomy_lh_entorhinal_area</th>\n",
       "      <th>...</th>\n",
       "      <th>fmri_basc197</th>\n",
       "      <th>fmri_basc325</th>\n",
       "      <th>fmri_basc444</th>\n",
       "      <th>fmri_craddock_scorr_mean</th>\n",
       "      <th>fmri_harvard_oxford_cort_prob_2mm</th>\n",
       "      <th>fmri_msdl</th>\n",
       "      <th>fmri_power_2011</th>\n",
       "      <th>fmri_motions</th>\n",
       "      <th>fmri_select</th>\n",
       "      <th>repetition_time</th>\n",
       "    </tr>\n",
       "    <tr>\n",
       "      <th>subject_id</th>\n",
       "      <th></th>\n",
       "      <th></th>\n",
       "      <th></th>\n",
       "      <th></th>\n",
       "      <th></th>\n",
       "      <th></th>\n",
       "      <th></th>\n",
       "      <th></th>\n",
       "      <th></th>\n",
       "      <th></th>\n",
       "      <th></th>\n",
       "      <th></th>\n",
       "      <th></th>\n",
       "      <th></th>\n",
       "      <th></th>\n",
       "      <th></th>\n",
       "      <th></th>\n",
       "      <th></th>\n",
       "      <th></th>\n",
       "      <th></th>\n",
       "      <th></th>\n",
       "    </tr>\n",
       "  </thead>\n",
       "  <tbody>\n",
       "    <tr>\n",
       "      <th>adhd700021</th>\n",
       "      <td>204</td>\n",
       "      <td>F</td>\n",
       "      <td>11.17</td>\n",
       "      <td>1</td>\n",
       "      <td>adhd200</td>\n",
       "      <td>1124</td>\n",
       "      <td>743</td>\n",
       "      <td>2886</td>\n",
       "      <td>1535</td>\n",
       "      <td>589</td>\n",
       "      <td>...</td>\n",
       "      <td>data/fmri_adhd/basc197/adhd700021/run_1/adhd70...</td>\n",
       "      <td>data/fmri_adhd/basc325/adhd700021/run_1/adhd70...</td>\n",
       "      <td>data/fmri_adhd/basc444/adhd700021/run_1/adhd70...</td>\n",
       "      <td>data/fmri_adhd/craddock_scorr_mean/adhd700021/...</td>\n",
       "      <td>data/fmri_adhd/harvard_oxford_cort_prob_2mm/ad...</td>\n",
       "      <td>data/fmri_adhd/msdl/adhd700021/run_1/adhd70002...</td>\n",
       "      <td>data/fmri_adhd/power_2011/adhd700021/run_1/adh...</td>\n",
       "      <td>data/fmri_adhd/motions/adhd700021/run_1/motion...</td>\n",
       "      <td>1</td>\n",
       "      <td>2.0</td>\n",
       "    </tr>\n",
       "    <tr>\n",
       "      <th>adhd242402</th>\n",
       "      <td>204</td>\n",
       "      <td>F</td>\n",
       "      <td>13.24</td>\n",
       "      <td>1</td>\n",
       "      <td>adhd200</td>\n",
       "      <td>1039</td>\n",
       "      <td>595</td>\n",
       "      <td>1966</td>\n",
       "      <td>1568</td>\n",
       "      <td>411</td>\n",
       "      <td>...</td>\n",
       "      <td>data/fmri_adhd/basc197/adhd242402/run_1/adhd24...</td>\n",
       "      <td>data/fmri_adhd/basc325/adhd242402/run_1/adhd24...</td>\n",
       "      <td>data/fmri_adhd/basc444/adhd242402/run_1/adhd24...</td>\n",
       "      <td>data/fmri_adhd/craddock_scorr_mean/adhd242402/...</td>\n",
       "      <td>data/fmri_adhd/harvard_oxford_cort_prob_2mm/ad...</td>\n",
       "      <td>data/fmri_adhd/msdl/adhd242402/run_1/adhd24240...</td>\n",
       "      <td>data/fmri_adhd/power_2011/adhd242402/run_1/adh...</td>\n",
       "      <td>data/fmri_adhd/motions/adhd242402/run_1/motion...</td>\n",
       "      <td>1</td>\n",
       "      <td>2.0</td>\n",
       "    </tr>\n",
       "    <tr>\n",
       "      <th>adhd972340</th>\n",
       "      <td>204</td>\n",
       "      <td>F</td>\n",
       "      <td>13.75</td>\n",
       "      <td>0</td>\n",
       "      <td>adhd200</td>\n",
       "      <td>601</td>\n",
       "      <td>492</td>\n",
       "      <td>1554</td>\n",
       "      <td>1345</td>\n",
       "      <td>455</td>\n",
       "      <td>...</td>\n",
       "      <td>data/fmri_adhd/basc197/adhd972340/run_1/adhd97...</td>\n",
       "      <td>data/fmri_adhd/basc325/adhd972340/run_1/adhd97...</td>\n",
       "      <td>data/fmri_adhd/basc444/adhd972340/run_1/adhd97...</td>\n",
       "      <td>data/fmri_adhd/craddock_scorr_mean/adhd972340/...</td>\n",
       "      <td>data/fmri_adhd/harvard_oxford_cort_prob_2mm/ad...</td>\n",
       "      <td>data/fmri_adhd/msdl/adhd972340/run_1/adhd97234...</td>\n",
       "      <td>data/fmri_adhd/power_2011/adhd972340/run_1/adh...</td>\n",
       "      <td>data/fmri_adhd/motions/adhd972340/run_1/motion...</td>\n",
       "      <td>1</td>\n",
       "      <td>2.0</td>\n",
       "    </tr>\n",
       "    <tr>\n",
       "      <th>adhd055645</th>\n",
       "      <td>204</td>\n",
       "      <td>F</td>\n",
       "      <td>11.18</td>\n",
       "      <td>0</td>\n",
       "      <td>adhd200</td>\n",
       "      <td>699</td>\n",
       "      <td>521</td>\n",
       "      <td>1773</td>\n",
       "      <td>1251</td>\n",
       "      <td>341</td>\n",
       "      <td>...</td>\n",
       "      <td>data/fmri_adhd/basc197/adhd055645/run_1/adhd05...</td>\n",
       "      <td>data/fmri_adhd/basc325/adhd055645/run_1/adhd05...</td>\n",
       "      <td>data/fmri_adhd/basc444/adhd055645/run_1/adhd05...</td>\n",
       "      <td>data/fmri_adhd/craddock_scorr_mean/adhd055645/...</td>\n",
       "      <td>data/fmri_adhd/harvard_oxford_cort_prob_2mm/ad...</td>\n",
       "      <td>data/fmri_adhd/msdl/adhd055645/run_1/adhd05564...</td>\n",
       "      <td>data/fmri_adhd/power_2011/adhd055645/run_1/adh...</td>\n",
       "      <td>data/fmri_adhd/motions/adhd055645/run_1/motion...</td>\n",
       "      <td>1</td>\n",
       "      <td>2.0</td>\n",
       "    </tr>\n",
       "    <tr>\n",
       "      <th>adhd436785</th>\n",
       "      <td>204</td>\n",
       "      <td>F</td>\n",
       "      <td>11.41</td>\n",
       "      <td>1</td>\n",
       "      <td>adhd200</td>\n",
       "      <td>799</td>\n",
       "      <td>605</td>\n",
       "      <td>2564</td>\n",
       "      <td>1688</td>\n",
       "      <td>419</td>\n",
       "      <td>...</td>\n",
       "      <td>data/fmri_adhd/basc197/adhd436785/run_1/adhd43...</td>\n",
       "      <td>data/fmri_adhd/basc325/adhd436785/run_1/adhd43...</td>\n",
       "      <td>data/fmri_adhd/basc444/adhd436785/run_1/adhd43...</td>\n",
       "      <td>data/fmri_adhd/craddock_scorr_mean/adhd436785/...</td>\n",
       "      <td>data/fmri_adhd/harvard_oxford_cort_prob_2mm/ad...</td>\n",
       "      <td>data/fmri_adhd/msdl/adhd436785/run_1/adhd43678...</td>\n",
       "      <td>data/fmri_adhd/power_2011/adhd436785/run_1/adh...</td>\n",
       "      <td>data/fmri_adhd/motions/adhd436785/run_1/motion...</td>\n",
       "      <td>1</td>\n",
       "      <td>2.0</td>\n",
       "    </tr>\n",
       "  </tbody>\n",
       "</table>\n",
       "<p>5 rows × 225 columns</p>\n",
       "</div>"
      ],
      "text/plain": [
       "            participants_site participants_sex  participants_age  \\\n",
       "subject_id                                                         \n",
       "adhd700021                204                F             11.17   \n",
       "adhd242402                204                F             13.24   \n",
       "adhd972340                204                F             13.75   \n",
       "adhd055645                204                F             11.18   \n",
       "adhd436785                204                F             11.41   \n",
       "\n",
       "            participants_dx participants_dataset  anatomy_lh_bankssts_area  \\\n",
       "subject_id                                                                   \n",
       "adhd700021                1              adhd200                      1124   \n",
       "adhd242402                1              adhd200                      1039   \n",
       "adhd972340                0              adhd200                       601   \n",
       "adhd055645                0              adhd200                       699   \n",
       "adhd436785                1              adhd200                       799   \n",
       "\n",
       "            anatomy_lh_caudalanteriorcingulate_area  \\\n",
       "subject_id                                            \n",
       "adhd700021                                      743   \n",
       "adhd242402                                      595   \n",
       "adhd972340                                      492   \n",
       "adhd055645                                      521   \n",
       "adhd436785                                      605   \n",
       "\n",
       "            anatomy_lh_caudalmiddlefrontal_area  anatomy_lh_cuneus_area  \\\n",
       "subject_id                                                                \n",
       "adhd700021                                 2886                    1535   \n",
       "adhd242402                                 1966                    1568   \n",
       "adhd972340                                 1554                    1345   \n",
       "adhd055645                                 1773                    1251   \n",
       "adhd436785                                 2564                    1688   \n",
       "\n",
       "            anatomy_lh_entorhinal_area  ...  \\\n",
       "subject_id                              ...   \n",
       "adhd700021                         589  ...   \n",
       "adhd242402                         411  ...   \n",
       "adhd972340                         455  ...   \n",
       "adhd055645                         341  ...   \n",
       "adhd436785                         419  ...   \n",
       "\n",
       "                                                 fmri_basc197  \\\n",
       "subject_id                                                      \n",
       "adhd700021  data/fmri_adhd/basc197/adhd700021/run_1/adhd70...   \n",
       "adhd242402  data/fmri_adhd/basc197/adhd242402/run_1/adhd24...   \n",
       "adhd972340  data/fmri_adhd/basc197/adhd972340/run_1/adhd97...   \n",
       "adhd055645  data/fmri_adhd/basc197/adhd055645/run_1/adhd05...   \n",
       "adhd436785  data/fmri_adhd/basc197/adhd436785/run_1/adhd43...   \n",
       "\n",
       "                                                 fmri_basc325  \\\n",
       "subject_id                                                      \n",
       "adhd700021  data/fmri_adhd/basc325/adhd700021/run_1/adhd70...   \n",
       "adhd242402  data/fmri_adhd/basc325/adhd242402/run_1/adhd24...   \n",
       "adhd972340  data/fmri_adhd/basc325/adhd972340/run_1/adhd97...   \n",
       "adhd055645  data/fmri_adhd/basc325/adhd055645/run_1/adhd05...   \n",
       "adhd436785  data/fmri_adhd/basc325/adhd436785/run_1/adhd43...   \n",
       "\n",
       "                                                 fmri_basc444  \\\n",
       "subject_id                                                      \n",
       "adhd700021  data/fmri_adhd/basc444/adhd700021/run_1/adhd70...   \n",
       "adhd242402  data/fmri_adhd/basc444/adhd242402/run_1/adhd24...   \n",
       "adhd972340  data/fmri_adhd/basc444/adhd972340/run_1/adhd97...   \n",
       "adhd055645  data/fmri_adhd/basc444/adhd055645/run_1/adhd05...   \n",
       "adhd436785  data/fmri_adhd/basc444/adhd436785/run_1/adhd43...   \n",
       "\n",
       "                                     fmri_craddock_scorr_mean  \\\n",
       "subject_id                                                      \n",
       "adhd700021  data/fmri_adhd/craddock_scorr_mean/adhd700021/...   \n",
       "adhd242402  data/fmri_adhd/craddock_scorr_mean/adhd242402/...   \n",
       "adhd972340  data/fmri_adhd/craddock_scorr_mean/adhd972340/...   \n",
       "adhd055645  data/fmri_adhd/craddock_scorr_mean/adhd055645/...   \n",
       "adhd436785  data/fmri_adhd/craddock_scorr_mean/adhd436785/...   \n",
       "\n",
       "                            fmri_harvard_oxford_cort_prob_2mm  \\\n",
       "subject_id                                                      \n",
       "adhd700021  data/fmri_adhd/harvard_oxford_cort_prob_2mm/ad...   \n",
       "adhd242402  data/fmri_adhd/harvard_oxford_cort_prob_2mm/ad...   \n",
       "adhd972340  data/fmri_adhd/harvard_oxford_cort_prob_2mm/ad...   \n",
       "adhd055645  data/fmri_adhd/harvard_oxford_cort_prob_2mm/ad...   \n",
       "adhd436785  data/fmri_adhd/harvard_oxford_cort_prob_2mm/ad...   \n",
       "\n",
       "                                                    fmri_msdl  \\\n",
       "subject_id                                                      \n",
       "adhd700021  data/fmri_adhd/msdl/adhd700021/run_1/adhd70002...   \n",
       "adhd242402  data/fmri_adhd/msdl/adhd242402/run_1/adhd24240...   \n",
       "adhd972340  data/fmri_adhd/msdl/adhd972340/run_1/adhd97234...   \n",
       "adhd055645  data/fmri_adhd/msdl/adhd055645/run_1/adhd05564...   \n",
       "adhd436785  data/fmri_adhd/msdl/adhd436785/run_1/adhd43678...   \n",
       "\n",
       "                                              fmri_power_2011  \\\n",
       "subject_id                                                      \n",
       "adhd700021  data/fmri_adhd/power_2011/adhd700021/run_1/adh...   \n",
       "adhd242402  data/fmri_adhd/power_2011/adhd242402/run_1/adh...   \n",
       "adhd972340  data/fmri_adhd/power_2011/adhd972340/run_1/adh...   \n",
       "adhd055645  data/fmri_adhd/power_2011/adhd055645/run_1/adh...   \n",
       "adhd436785  data/fmri_adhd/power_2011/adhd436785/run_1/adh...   \n",
       "\n",
       "                                                 fmri_motions  fmri_select  \\\n",
       "subject_id                                                                   \n",
       "adhd700021  data/fmri_adhd/motions/adhd700021/run_1/motion...            1   \n",
       "adhd242402  data/fmri_adhd/motions/adhd242402/run_1/motion...            1   \n",
       "adhd972340  data/fmri_adhd/motions/adhd972340/run_1/motion...            1   \n",
       "adhd055645  data/fmri_adhd/motions/adhd055645/run_1/motion...            1   \n",
       "adhd436785  data/fmri_adhd/motions/adhd436785/run_1/motion...            1   \n",
       "\n",
       "            repetition_time  \n",
       "subject_id                   \n",
       "adhd700021              2.0  \n",
       "adhd242402              2.0  \n",
       "adhd972340              2.0  \n",
       "adhd055645              2.0  \n",
       "adhd436785              2.0  \n",
       "\n",
       "[5 rows x 225 columns]"
      ]
     },
     "execution_count": 3,
     "metadata": {},
     "output_type": "execute_result"
    }
   ],
   "source": [
    "data.head()"
   ]
  },
  {
   "cell_type": "code",
   "execution_count": 4,
   "metadata": {},
   "outputs": [
    {
     "name": "stdout",
     "output_type": "stream",
     "text": [
      "Number of subjects in the dataset: 1671\n"
     ]
    }
   ],
   "source": [
    "print('Number of subjects in the dataset: {}'.format(labels.size))"
   ]
  },
  {
   "cell_type": "code",
   "execution_count": 5,
   "metadata": {},
   "outputs": [
    {
     "data": {
      "text/plain": [
       "abide      1150\n",
       "adhd200     521\n",
       "Name: participants_dataset, dtype: int64"
      ]
     },
     "execution_count": 5,
     "metadata": {},
     "output_type": "execute_result"
    }
   ],
   "source": [
    "data.participants_dataset.value_counts()"
   ]
  },
  {
   "cell_type": "code",
   "execution_count": 7,
   "metadata": {},
   "outputs": [
    {
     "data": {
      "image/png": "[encoded data removed]",
      "text/plain": [
       "<Figure size 648x288 with 1 Axes>"
      ]
     },
     "metadata": {
      "needs_background": "light"
     },
     "output_type": "display_data"
    }
   ],
   "source": [
    "plt.figure(figsize=(9,4))\n",
    "ax = sns.histplot(data, y=\"participants_dataset\", hue = \"participants_dataset\",multiple=\"stack\", legend = False)\n",
    "ax.set(ylabel = \"Dataset\")\n",
    "ax.set_yticklabels(['ADHD200','ABIDE'])\n",
    "ax.set_title('Distribution of data')\n",
    "sns.despine(bottom = True, left = True)\n",
    "plt.show()"
   ]
  },
  {
   "cell_type": "code",
   "execution_count": 8,
   "metadata": {},
   "outputs": [
    {
     "data": {
      "text/plain": [
       "0    939\n",
       "1    732\n",
       "Name: participants_dx, dtype: int64"
      ]
     },
     "execution_count": 8,
     "metadata": {},
     "output_type": "execute_result"
    }
   ],
   "source": [
    "data.participants_dx.value_counts()"
   ]
  },
  {
   "cell_type": "code",
   "execution_count": 9,
   "metadata": {},
   "outputs": [
    {
     "data": {
      "text/plain": [
       "0    338\n",
       "1    183\n",
       "Name: participants_dx, dtype: int64"
      ]
     },
     "execution_count": 9,
     "metadata": {},
     "output_type": "execute_result"
    }
   ],
   "source": [
    "adhd = data[data['participants_dataset'] == 'adhd200']\n",
    "adhd.participants_dx.value_counts()"
   ]
  },
  {
   "cell_type": "code",
   "execution_count": 10,
   "metadata": {},
   "outputs": [
    {
     "data": {
      "text/plain": [
       "0    601\n",
       "1    549\n",
       "Name: participants_dx, dtype: int64"
      ]
     },
     "execution_count": 10,
     "metadata": {},
     "output_type": "execute_result"
    }
   ],
   "source": [
    "abide = data[data['participants_dataset'] == 'abide']\n",
    "abide.participants_dx.value_counts()"
   ]
  },
  {
   "cell_type": "code",
   "execution_count": 11,
   "metadata": {},
   "outputs": [
    {
     "data": {
      "image/png": "[encoded data removed]",
      "text/plain": [
       "<Figure size 648x288 with 1 Axes>"
      ]
     },
     "metadata": {
      "needs_background": "light"
     },
     "output_type": "display_data"
    }
   ],
   "source": [
    "plt.figure(figsize=(9,4))\n",
    "ax = sns.histplot(data, y=\"participants_dataset\", hue = \"participants_dx\", multiple=\"stack\")\n",
    "ax.set(ylabel = \"Dataset\")\n",
    "ax.set_yticklabels(['ADHD200','ABIDE'])\n",
    "plt.legend(title='', loc='upper right', labels=['Neurodevelopmental disorder', 'Control'])\n",
    "ax.set_title('Distribution of Neurodevelopmental/Control subjects')\n",
    "sns.despine(bottom = True, left = True)\n",
    "plt.show()"
   ]
  },
  {
   "cell_type": "markdown",
   "metadata": {},
   "source": [
    "Splitting data to train and test"
   ]
  },
  {
   "cell_type": "code",
   "execution_count": 12,
   "metadata": {},
   "outputs": [],
   "source": [
    "data_train, labels_train, data_test, labels_test = split_data(data, labels)"
   ]
  },
  {
   "cell_type": "code",
   "execution_count": 13,
   "metadata": {},
   "outputs": [
    {
     "name": "stdout",
     "output_type": "stream",
     "text": [
      "Number of subjects in the training tests: 1336\n"
     ]
    }
   ],
   "source": [
    "print('Number of subjects in the training tests: {}'.format(labels_train.size))"
   ]
  },
  {
   "cell_type": "code",
   "execution_count": 14,
   "metadata": {},
   "outputs": [
    {
     "name": "stdout",
     "output_type": "stream",
     "text": [
      "Number of subjects in the training tests: 335\n"
     ]
    }
   ],
   "source": [
    "print('Number of subjects in the training tests: {}'.format(labels_test.size))"
   ]
  },
  {
   "cell_type": "markdown",
   "metadata": {},
   "source": [
    "## Participant features"
   ]
  },
  {
   "cell_type": "code",
   "execution_count": 15,
   "metadata": {},
   "outputs": [
    {
     "data": {
      "text/html": [
       "<div>\n",
       "<style scoped>\n",
       "    .dataframe tbody tr th:only-of-type {\n",
       "        vertical-align: middle;\n",
       "    }\n",
       "\n",
       "    .dataframe tbody tr th {\n",
       "        vertical-align: top;\n",
       "    }\n",
       "\n",
       "    .dataframe thead th {\n",
       "        text-align: right;\n",
       "    }\n",
       "</style>\n",
       "<table border=\"1\" class=\"dataframe\">\n",
       "  <thead>\n",
       "    <tr style=\"text-align: right;\">\n",
       "      <th></th>\n",
       "      <th>participants_site</th>\n",
       "      <th>participants_sex</th>\n",
       "      <th>participants_age</th>\n",
       "      <th>participants_dx</th>\n",
       "      <th>participants_dataset</th>\n",
       "    </tr>\n",
       "    <tr>\n",
       "      <th>subject_id</th>\n",
       "      <th></th>\n",
       "      <th></th>\n",
       "      <th></th>\n",
       "      <th></th>\n",
       "      <th></th>\n",
       "    </tr>\n",
       "  </thead>\n",
       "  <tbody>\n",
       "    <tr>\n",
       "      <th>15680715926403849325</th>\n",
       "      <td>1</td>\n",
       "      <td>M</td>\n",
       "      <td>6.329911</td>\n",
       "      <td>0</td>\n",
       "      <td>abide</td>\n",
       "    </tr>\n",
       "    <tr>\n",
       "      <th>adhd499857</th>\n",
       "      <td>209</td>\n",
       "      <td>F</td>\n",
       "      <td>14.820000</td>\n",
       "      <td>0</td>\n",
       "      <td>adhd200</td>\n",
       "    </tr>\n",
       "    <tr>\n",
       "      <th>11423075398546923195</th>\n",
       "      <td>7</td>\n",
       "      <td>M</td>\n",
       "      <td>8.230000</td>\n",
       "      <td>1</td>\n",
       "      <td>abide</td>\n",
       "    </tr>\n",
       "    <tr>\n",
       "      <th>228103336523884890</th>\n",
       "      <td>19</td>\n",
       "      <td>M</td>\n",
       "      <td>19.000000</td>\n",
       "      <td>1</td>\n",
       "      <td>abide</td>\n",
       "    </tr>\n",
       "    <tr>\n",
       "      <th>adhd457366</th>\n",
       "      <td>208</td>\n",
       "      <td>M</td>\n",
       "      <td>11.000000</td>\n",
       "      <td>1</td>\n",
       "      <td>adhd200</td>\n",
       "    </tr>\n",
       "  </tbody>\n",
       "</table>\n",
       "</div>"
      ],
      "text/plain": [
       "                      participants_site participants_sex  participants_age  \\\n",
       "subject_id                                                                   \n",
       "15680715926403849325                  1                M          6.329911   \n",
       "adhd499857                          209                F         14.820000   \n",
       "11423075398546923195                  7                M          8.230000   \n",
       "228103336523884890                   19                M         19.000000   \n",
       "adhd457366                          208                M         11.000000   \n",
       "\n",
       "                      participants_dx participants_dataset  \n",
       "subject_id                                                  \n",
       "15680715926403849325                0                abide  \n",
       "adhd499857                          0              adhd200  \n",
       "11423075398546923195                1                abide  \n",
       "228103336523884890                  1                abide  \n",
       "adhd457366                          1              adhd200  "
      ]
     },
     "execution_count": 15,
     "metadata": {},
     "output_type": "execute_result"
    }
   ],
   "source": [
    "data_train_participants = data_train[[col for col in data_train.columns if col.startswith('participants')]]\n",
    "data_train_participants.head()"
   ]
  },
  {
   "cell_type": "markdown",
   "metadata": {},
   "source": [
    "## Structural MRI features"
   ]
  },
  {
   "cell_type": "markdown",
   "metadata": {},
   "source": [
    "A set of structural features have been extracted for each subject: (i) normalized brain volume computed using subcortical segmentation of FreeSurfer and (ii) cortical thickness and area for right and left hemisphere of FreeSurfer."
   ]
  },
  {
   "cell_type": "code",
   "execution_count": 16,
   "metadata": {},
   "outputs": [
    {
     "data": {
      "text/html": [
       "<div>\n",
       "<style scoped>\n",
       "    .dataframe tbody tr th:only-of-type {\n",
       "        vertical-align: middle;\n",
       "    }\n",
       "\n",
       "    .dataframe tbody tr th {\n",
       "        vertical-align: top;\n",
       "    }\n",
       "\n",
       "    .dataframe thead th {\n",
       "        text-align: right;\n",
       "    }\n",
       "</style>\n",
       "<table border=\"1\" class=\"dataframe\">\n",
       "  <thead>\n",
       "    <tr style=\"text-align: right;\">\n",
       "      <th></th>\n",
       "      <th>anatomy_lh_bankssts_area</th>\n",
       "      <th>anatomy_lh_caudalanteriorcingulate_area</th>\n",
       "      <th>anatomy_lh_caudalmiddlefrontal_area</th>\n",
       "      <th>anatomy_lh_cuneus_area</th>\n",
       "      <th>anatomy_lh_entorhinal_area</th>\n",
       "      <th>anatomy_lh_fusiform_area</th>\n",
       "      <th>anatomy_lh_inferiorparietal_area</th>\n",
       "      <th>anatomy_lh_inferiortemporal_area</th>\n",
       "      <th>anatomy_lh_isthmuscingulate_area</th>\n",
       "      <th>anatomy_lh_lateraloccipital_area</th>\n",
       "      <th>...</th>\n",
       "      <th>anatomy_SupraTentorialVolNotVentVox</th>\n",
       "      <th>anatomy_MaskVol</th>\n",
       "      <th>anatomy_BrainSegVol.to.eTIV</th>\n",
       "      <th>anatomy_MaskVol.to.eTIV</th>\n",
       "      <th>anatomy_lhSurfaceHoles</th>\n",
       "      <th>anatomy_rhSurfaceHoles</th>\n",
       "      <th>anatomy_SurfaceHoles</th>\n",
       "      <th>anatomy_EstimatedTotalIntraCranialVol</th>\n",
       "      <th>anatomy_eTIV</th>\n",
       "      <th>anatomy_select</th>\n",
       "    </tr>\n",
       "    <tr>\n",
       "      <th>subject_id</th>\n",
       "      <th></th>\n",
       "      <th></th>\n",
       "      <th></th>\n",
       "      <th></th>\n",
       "      <th></th>\n",
       "      <th></th>\n",
       "      <th></th>\n",
       "      <th></th>\n",
       "      <th></th>\n",
       "      <th></th>\n",
       "      <th></th>\n",
       "      <th></th>\n",
       "      <th></th>\n",
       "      <th></th>\n",
       "      <th></th>\n",
       "      <th></th>\n",
       "      <th></th>\n",
       "      <th></th>\n",
       "      <th></th>\n",
       "      <th></th>\n",
       "      <th></th>\n",
       "    </tr>\n",
       "  </thead>\n",
       "  <tbody>\n",
       "    <tr>\n",
       "      <th>15680715926403849325</th>\n",
       "      <td>930</td>\n",
       "      <td>563</td>\n",
       "      <td>2013</td>\n",
       "      <td>1666</td>\n",
       "      <td>600</td>\n",
       "      <td>3059</td>\n",
       "      <td>3958</td>\n",
       "      <td>3292</td>\n",
       "      <td>1050</td>\n",
       "      <td>5423</td>\n",
       "      <td>...</td>\n",
       "      <td>1250433</td>\n",
       "      <td>2217312</td>\n",
       "      <td>1.008560</td>\n",
       "      <td>1.509383</td>\n",
       "      <td>367</td>\n",
       "      <td>420</td>\n",
       "      <td>787</td>\n",
       "      <td>1.469019e+06</td>\n",
       "      <td>1.469019e+06</td>\n",
       "      <td>3</td>\n",
       "    </tr>\n",
       "    <tr>\n",
       "      <th>adhd499857</th>\n",
       "      <td>1087</td>\n",
       "      <td>720</td>\n",
       "      <td>1723</td>\n",
       "      <td>1470</td>\n",
       "      <td>500</td>\n",
       "      <td>3027</td>\n",
       "      <td>3918</td>\n",
       "      <td>3355</td>\n",
       "      <td>844</td>\n",
       "      <td>4271</td>\n",
       "      <td>...</td>\n",
       "      <td>897239</td>\n",
       "      <td>1406049</td>\n",
       "      <td>0.776706</td>\n",
       "      <td>1.049501</td>\n",
       "      <td>21</td>\n",
       "      <td>16</td>\n",
       "      <td>37</td>\n",
       "      <td>1.339731e+06</td>\n",
       "      <td>1.339731e+06</td>\n",
       "      <td>1</td>\n",
       "    </tr>\n",
       "    <tr>\n",
       "      <th>11423075398546923195</th>\n",
       "      <td>1576</td>\n",
       "      <td>643</td>\n",
       "      <td>2562</td>\n",
       "      <td>1371</td>\n",
       "      <td>426</td>\n",
       "      <td>2984</td>\n",
       "      <td>4440</td>\n",
       "      <td>3207</td>\n",
       "      <td>1193</td>\n",
       "      <td>4639</td>\n",
       "      <td>...</td>\n",
       "      <td>1109639</td>\n",
       "      <td>1671390</td>\n",
       "      <td>0.805873</td>\n",
       "      <td>1.065935</td>\n",
       "      <td>97</td>\n",
       "      <td>130</td>\n",
       "      <td>227</td>\n",
       "      <td>1.568003e+06</td>\n",
       "      <td>1.568003e+06</td>\n",
       "      <td>2</td>\n",
       "    </tr>\n",
       "    <tr>\n",
       "      <th>228103336523884890</th>\n",
       "      <td>1020</td>\n",
       "      <td>895</td>\n",
       "      <td>3262</td>\n",
       "      <td>1932</td>\n",
       "      <td>601</td>\n",
       "      <td>4051</td>\n",
       "      <td>5527</td>\n",
       "      <td>3780</td>\n",
       "      <td>1561</td>\n",
       "      <td>6503</td>\n",
       "      <td>...</td>\n",
       "      <td>1125314</td>\n",
       "      <td>1749907</td>\n",
       "      <td>0.778628</td>\n",
       "      <td>1.052128</td>\n",
       "      <td>56</td>\n",
       "      <td>44</td>\n",
       "      <td>100</td>\n",
       "      <td>1.663207e+06</td>\n",
       "      <td>1.663207e+06</td>\n",
       "      <td>1</td>\n",
       "    </tr>\n",
       "    <tr>\n",
       "      <th>adhd457366</th>\n",
       "      <td>1101</td>\n",
       "      <td>761</td>\n",
       "      <td>2231</td>\n",
       "      <td>1436</td>\n",
       "      <td>335</td>\n",
       "      <td>3606</td>\n",
       "      <td>5572</td>\n",
       "      <td>4105</td>\n",
       "      <td>1328</td>\n",
       "      <td>5370</td>\n",
       "      <td>...</td>\n",
       "      <td>1101543</td>\n",
       "      <td>1715241</td>\n",
       "      <td>0.787258</td>\n",
       "      <td>1.067242</td>\n",
       "      <td>155</td>\n",
       "      <td>138</td>\n",
       "      <td>293</td>\n",
       "      <td>1.607172e+06</td>\n",
       "      <td>1.607172e+06</td>\n",
       "      <td>1</td>\n",
       "    </tr>\n",
       "  </tbody>\n",
       "</table>\n",
       "<p>5 rows × 208 columns</p>\n",
       "</div>"
      ],
      "text/plain": [
       "                      anatomy_lh_bankssts_area  \\\n",
       "subject_id                                       \n",
       "15680715926403849325                       930   \n",
       "adhd499857                                1087   \n",
       "11423075398546923195                      1576   \n",
       "228103336523884890                        1020   \n",
       "adhd457366                                1101   \n",
       "\n",
       "                      anatomy_lh_caudalanteriorcingulate_area  \\\n",
       "subject_id                                                      \n",
       "15680715926403849325                                      563   \n",
       "adhd499857                                                720   \n",
       "11423075398546923195                                      643   \n",
       "228103336523884890                                        895   \n",
       "adhd457366                                                761   \n",
       "\n",
       "                      anatomy_lh_caudalmiddlefrontal_area  \\\n",
       "subject_id                                                  \n",
       "15680715926403849325                                 2013   \n",
       "adhd499857                                           1723   \n",
       "11423075398546923195                                 2562   \n",
       "228103336523884890                                   3262   \n",
       "adhd457366                                           2231   \n",
       "\n",
       "                      anatomy_lh_cuneus_area  anatomy_lh_entorhinal_area  \\\n",
       "subject_id                                                                 \n",
       "15680715926403849325                    1666                         600   \n",
       "adhd499857                              1470                         500   \n",
       "11423075398546923195                    1371                         426   \n",
       "228103336523884890                      1932                         601   \n",
       "adhd457366                              1436                         335   \n",
       "\n",
       "                      anatomy_lh_fusiform_area  \\\n",
       "subject_id                                       \n",
       "15680715926403849325                      3059   \n",
       "adhd499857                                3027   \n",
       "11423075398546923195                      2984   \n",
       "228103336523884890                        4051   \n",
       "adhd457366                                3606   \n",
       "\n",
       "                      anatomy_lh_inferiorparietal_area  \\\n",
       "subject_id                                               \n",
       "15680715926403849325                              3958   \n",
       "adhd499857                                        3918   \n",
       "11423075398546923195                              4440   \n",
       "228103336523884890                                5527   \n",
       "adhd457366                                        5572   \n",
       "\n",
       "                      anatomy_lh_inferiortemporal_area  \\\n",
       "subject_id                                               \n",
       "15680715926403849325                              3292   \n",
       "adhd499857                                        3355   \n",
       "11423075398546923195                              3207   \n",
       "228103336523884890                                3780   \n",
       "adhd457366                                        4105   \n",
       "\n",
       "                      anatomy_lh_isthmuscingulate_area  \\\n",
       "subject_id                                               \n",
       "15680715926403849325                              1050   \n",
       "adhd499857                                         844   \n",
       "11423075398546923195                              1193   \n",
       "228103336523884890                                1561   \n",
       "adhd457366                                        1328   \n",
       "\n",
       "                      anatomy_lh_lateraloccipital_area  ...  \\\n",
       "subject_id                                              ...   \n",
       "15680715926403849325                              5423  ...   \n",
       "adhd499857                                        4271  ...   \n",
       "11423075398546923195                              4639  ...   \n",
       "228103336523884890                                6503  ...   \n",
       "adhd457366                                        5370  ...   \n",
       "\n",
       "                      anatomy_SupraTentorialVolNotVentVox  anatomy_MaskVol  \\\n",
       "subject_id                                                                   \n",
       "15680715926403849325                              1250433          2217312   \n",
       "adhd499857                                         897239          1406049   \n",
       "11423075398546923195                              1109639          1671390   \n",
       "228103336523884890                                1125314          1749907   \n",
       "adhd457366                                        1101543          1715241   \n",
       "\n",
       "                      anatomy_BrainSegVol.to.eTIV  anatomy_MaskVol.to.eTIV  \\\n",
       "subject_id                                                                   \n",
       "15680715926403849325                     1.008560                 1.509383   \n",
       "adhd499857                               0.776706                 1.049501   \n",
       "11423075398546923195                     0.805873                 1.065935   \n",
       "228103336523884890                       0.778628                 1.052128   \n",
       "adhd457366                               0.787258                 1.067242   \n",
       "\n",
       "                      anatomy_lhSurfaceHoles  anatomy_rhSurfaceHoles  \\\n",
       "subject_id                                                             \n",
       "15680715926403849325                     367                     420   \n",
       "adhd499857                                21                      16   \n",
       "11423075398546923195                      97                     130   \n",
       "228103336523884890                        56                      44   \n",
       "adhd457366                               155                     138   \n",
       "\n",
       "                      anatomy_SurfaceHoles  \\\n",
       "subject_id                                   \n",
       "15680715926403849325                   787   \n",
       "adhd499857                              37   \n",
       "11423075398546923195                   227   \n",
       "228103336523884890                     100   \n",
       "adhd457366                             293   \n",
       "\n",
       "                      anatomy_EstimatedTotalIntraCranialVol  anatomy_eTIV  \\\n",
       "subject_id                                                                  \n",
       "15680715926403849325                           1.469019e+06  1.469019e+06   \n",
       "adhd499857                                     1.339731e+06  1.339731e+06   \n",
       "11423075398546923195                           1.568003e+06  1.568003e+06   \n",
       "228103336523884890                             1.663207e+06  1.663207e+06   \n",
       "adhd457366                                     1.607172e+06  1.607172e+06   \n",
       "\n",
       "                      anatomy_select  \n",
       "subject_id                            \n",
       "15680715926403849325               3  \n",
       "adhd499857                         1  \n",
       "11423075398546923195               2  \n",
       "228103336523884890                 1  \n",
       "adhd457366                         1  \n",
       "\n",
       "[5 rows x 208 columns]"
      ]
     },
     "execution_count": 16,
     "metadata": {},
     "output_type": "execute_result"
    }
   ],
   "source": [
    "data_train_anatomy = data_train[[col for col in data_train.columns if col.startswith('anatomy')]]\n",
    "data_train_anatomy.head()"
   ]
  },
  {
   "cell_type": "markdown",
   "metadata": {},
   "source": [
    "Note that the column `anatomy_select` contain a label affected during a manual quality check (i.e. `0` and `3` reject, `1` accept, `2` accept with reserve). This column can be used during training to exclude noisy data for instance."
   ]
  },
  {
   "cell_type": "code",
   "execution_count": 17,
   "metadata": {},
   "outputs": [
    {
     "data": {
      "text/plain": [
       "subject_id\n",
       "15680715926403849325    3\n",
       "adhd499857              1\n",
       "11423075398546923195    2\n",
       "228103336523884890      1\n",
       "adhd457366              1\n",
       "Name: anatomy_select, dtype: int64"
      ]
     },
     "execution_count": 17,
     "metadata": {},
     "output_type": "execute_result"
    }
   ],
   "source": [
    "data_train_anatomy['anatomy_select'].head()"
   ]
  },
  {
   "cell_type": "markdown",
   "metadata": {},
   "source": [
    "## Functional MRI features"
   ]
  },
  {
   "cell_type": "code",
   "execution_count": 18,
   "metadata": {},
   "outputs": [
    {
     "data": {
      "text/html": [
       "<div>\n",
       "<style scoped>\n",
       "    .dataframe tbody tr th:only-of-type {\n",
       "        vertical-align: middle;\n",
       "    }\n",
       "\n",
       "    .dataframe tbody tr th {\n",
       "        vertical-align: top;\n",
       "    }\n",
       "\n",
       "    .dataframe thead th {\n",
       "        text-align: right;\n",
       "    }\n",
       "</style>\n",
       "<table border=\"1\" class=\"dataframe\">\n",
       "  <thead>\n",
       "    <tr style=\"text-align: right;\">\n",
       "      <th></th>\n",
       "      <th>fmri_basc064</th>\n",
       "      <th>fmri_basc122</th>\n",
       "      <th>fmri_basc197</th>\n",
       "      <th>fmri_basc325</th>\n",
       "      <th>fmri_basc444</th>\n",
       "      <th>fmri_craddock_scorr_mean</th>\n",
       "      <th>fmri_harvard_oxford_cort_prob_2mm</th>\n",
       "      <th>fmri_msdl</th>\n",
       "      <th>fmri_power_2011</th>\n",
       "      <th>fmri_motions</th>\n",
       "      <th>fmri_select</th>\n",
       "    </tr>\n",
       "    <tr>\n",
       "      <th>subject_id</th>\n",
       "      <th></th>\n",
       "      <th></th>\n",
       "      <th></th>\n",
       "      <th></th>\n",
       "      <th></th>\n",
       "      <th></th>\n",
       "      <th></th>\n",
       "      <th></th>\n",
       "      <th></th>\n",
       "      <th></th>\n",
       "      <th></th>\n",
       "    </tr>\n",
       "  </thead>\n",
       "  <tbody>\n",
       "    <tr>\n",
       "      <th>15680715926403849325</th>\n",
       "      <td>data/fmri/basc064/15680715926403849325/run_1/1...</td>\n",
       "      <td>data/fmri/basc122/15680715926403849325/run_1/1...</td>\n",
       "      <td>data/fmri/basc197/15680715926403849325/run_1/1...</td>\n",
       "      <td>data/fmri/basc325/15680715926403849325/run_1/1...</td>\n",
       "      <td>data/fmri/basc444/15680715926403849325/run_1/1...</td>\n",
       "      <td>data/fmri/craddock_scorr_mean/1568071592640384...</td>\n",
       "      <td>data/fmri/harvard_oxford_cort_prob_2mm/1568071...</td>\n",
       "      <td>data/fmri/msdl/15680715926403849325/run_1/1568...</td>\n",
       "      <td>data/fmri/power_2011/15680715926403849325/run_...</td>\n",
       "      <td>data/fmri/motions/15680715926403849325/run_1/m...</td>\n",
       "      <td>1</td>\n",
       "    </tr>\n",
       "    <tr>\n",
       "      <th>adhd499857</th>\n",
       "      <td>data/fmri_adhd/basc064/adhd499857/run_1/adhd49...</td>\n",
       "      <td>data/fmri_adhd/basc122/adhd499857/run_1/adhd49...</td>\n",
       "      <td>data/fmri_adhd/basc197/adhd499857/run_1/adhd49...</td>\n",
       "      <td>data/fmri_adhd/basc325/adhd499857/run_1/adhd49...</td>\n",
       "      <td>data/fmri_adhd/basc444/adhd499857/run_1/adhd49...</td>\n",
       "      <td>data/fmri_adhd/craddock_scorr_mean/adhd499857/...</td>\n",
       "      <td>data/fmri_adhd/harvard_oxford_cort_prob_2mm/ad...</td>\n",
       "      <td>data/fmri_adhd/msdl/adhd499857/run_1/adhd49985...</td>\n",
       "      <td>data/fmri_adhd/power_2011/adhd499857/run_1/adh...</td>\n",
       "      <td>data/fmri_adhd/motions/adhd499857/run_1/motion...</td>\n",
       "      <td>1</td>\n",
       "    </tr>\n",
       "    <tr>\n",
       "      <th>11423075398546923195</th>\n",
       "      <td>data/fmri/basc064/11423075398546923195/run_1/1...</td>\n",
       "      <td>data/fmri/basc122/11423075398546923195/run_1/1...</td>\n",
       "      <td>data/fmri/basc197/11423075398546923195/run_1/1...</td>\n",
       "      <td>data/fmri/basc325/11423075398546923195/run_1/1...</td>\n",
       "      <td>data/fmri/basc444/11423075398546923195/run_1/1...</td>\n",
       "      <td>data/fmri/craddock_scorr_mean/1142307539854692...</td>\n",
       "      <td>data/fmri/harvard_oxford_cort_prob_2mm/1142307...</td>\n",
       "      <td>data/fmri/msdl/11423075398546923195/run_1/1142...</td>\n",
       "      <td>data/fmri/power_2011/11423075398546923195/run_...</td>\n",
       "      <td>data/fmri/motions/11423075398546923195/run_1/m...</td>\n",
       "      <td>1</td>\n",
       "    </tr>\n",
       "    <tr>\n",
       "      <th>228103336523884890</th>\n",
       "      <td>data/fmri/basc064/228103336523884890/run_1/228...</td>\n",
       "      <td>data/fmri/basc122/228103336523884890/run_1/228...</td>\n",
       "      <td>data/fmri/basc197/228103336523884890/run_1/228...</td>\n",
       "      <td>data/fmri/basc325/228103336523884890/run_1/228...</td>\n",
       "      <td>data/fmri/basc444/228103336523884890/run_1/228...</td>\n",
       "      <td>data/fmri/craddock_scorr_mean/2281033365238848...</td>\n",
       "      <td>data/fmri/harvard_oxford_cort_prob_2mm/2281033...</td>\n",
       "      <td>data/fmri/msdl/228103336523884890/run_1/228103...</td>\n",
       "      <td>data/fmri/power_2011/228103336523884890/run_1/...</td>\n",
       "      <td>data/fmri/motions/228103336523884890/run_1/mot...</td>\n",
       "      <td>1</td>\n",
       "    </tr>\n",
       "    <tr>\n",
       "      <th>adhd457366</th>\n",
       "      <td>data/fmri_adhd/basc064/adhd457366/run_1/adhd45...</td>\n",
       "      <td>data/fmri_adhd/basc122/adhd457366/run_1/adhd45...</td>\n",
       "      <td>data/fmri_adhd/basc197/adhd457366/run_1/adhd45...</td>\n",
       "      <td>data/fmri_adhd/basc325/adhd457366/run_1/adhd45...</td>\n",
       "      <td>data/fmri_adhd/basc444/adhd457366/run_1/adhd45...</td>\n",
       "      <td>data/fmri_adhd/craddock_scorr_mean/adhd457366/...</td>\n",
       "      <td>data/fmri_adhd/harvard_oxford_cort_prob_2mm/ad...</td>\n",
       "      <td>data/fmri_adhd/msdl/adhd457366/run_1/adhd45736...</td>\n",
       "      <td>data/fmri_adhd/power_2011/adhd457366/run_1/adh...</td>\n",
       "      <td>data/fmri_adhd/motions/adhd457366/run_1/motion...</td>\n",
       "      <td>1</td>\n",
       "    </tr>\n",
       "  </tbody>\n",
       "</table>\n",
       "</div>"
      ],
      "text/plain": [
       "                                                           fmri_basc064  \\\n",
       "subject_id                                                                \n",
       "15680715926403849325  data/fmri/basc064/15680715926403849325/run_1/1...   \n",
       "adhd499857            data/fmri_adhd/basc064/adhd499857/run_1/adhd49...   \n",
       "11423075398546923195  data/fmri/basc064/11423075398546923195/run_1/1...   \n",
       "228103336523884890    data/fmri/basc064/228103336523884890/run_1/228...   \n",
       "adhd457366            data/fmri_adhd/basc064/adhd457366/run_1/adhd45...   \n",
       "\n",
       "                                                           fmri_basc122  \\\n",
       "subject_id                                                                \n",
       "15680715926403849325  data/fmri/basc122/15680715926403849325/run_1/1...   \n",
       "adhd499857            data/fmri_adhd/basc122/adhd499857/run_1/adhd49...   \n",
       "11423075398546923195  data/fmri/basc122/11423075398546923195/run_1/1...   \n",
       "228103336523884890    data/fmri/basc122/228103336523884890/run_1/228...   \n",
       "adhd457366            data/fmri_adhd/basc122/adhd457366/run_1/adhd45...   \n",
       "\n",
       "                                                           fmri_basc197  \\\n",
       "subject_id                                                                \n",
       "15680715926403849325  data/fmri/basc197/15680715926403849325/run_1/1...   \n",
       "adhd499857            data/fmri_adhd/basc197/adhd499857/run_1/adhd49...   \n",
       "11423075398546923195  data/fmri/basc197/11423075398546923195/run_1/1...   \n",
       "228103336523884890    data/fmri/basc197/228103336523884890/run_1/228...   \n",
       "adhd457366            data/fmri_adhd/basc197/adhd457366/run_1/adhd45...   \n",
       "\n",
       "                                                           fmri_basc325  \\\n",
       "subject_id                                                                \n",
       "15680715926403849325  data/fmri/basc325/15680715926403849325/run_1/1...   \n",
       "adhd499857            data/fmri_adhd/basc325/adhd499857/run_1/adhd49...   \n",
       "11423075398546923195  data/fmri/basc325/11423075398546923195/run_1/1...   \n",
       "228103336523884890    data/fmri/basc325/228103336523884890/run_1/228...   \n",
       "adhd457366            data/fmri_adhd/basc325/adhd457366/run_1/adhd45...   \n",
       "\n",
       "                                                           fmri_basc444  \\\n",
       "subject_id                                                                \n",
       "15680715926403849325  data/fmri/basc444/15680715926403849325/run_1/1...   \n",
       "adhd499857            data/fmri_adhd/basc444/adhd499857/run_1/adhd49...   \n",
       "11423075398546923195  data/fmri/basc444/11423075398546923195/run_1/1...   \n",
       "228103336523884890    data/fmri/basc444/228103336523884890/run_1/228...   \n",
       "adhd457366            data/fmri_adhd/basc444/adhd457366/run_1/adhd45...   \n",
       "\n",
       "                                               fmri_craddock_scorr_mean  \\\n",
       "subject_id                                                                \n",
       "15680715926403849325  data/fmri/craddock_scorr_mean/1568071592640384...   \n",
       "adhd499857            data/fmri_adhd/craddock_scorr_mean/adhd499857/...   \n",
       "11423075398546923195  data/fmri/craddock_scorr_mean/1142307539854692...   \n",
       "228103336523884890    data/fmri/craddock_scorr_mean/2281033365238848...   \n",
       "adhd457366            data/fmri_adhd/craddock_scorr_mean/adhd457366/...   \n",
       "\n",
       "                                      fmri_harvard_oxford_cort_prob_2mm  \\\n",
       "subject_id                                                                \n",
       "15680715926403849325  data/fmri/harvard_oxford_cort_prob_2mm/1568071...   \n",
       "adhd499857            data/fmri_adhd/harvard_oxford_cort_prob_2mm/ad...   \n",
       "11423075398546923195  data/fmri/harvard_oxford_cort_prob_2mm/1142307...   \n",
       "228103336523884890    data/fmri/harvard_oxford_cort_prob_2mm/2281033...   \n",
       "adhd457366            data/fmri_adhd/harvard_oxford_cort_prob_2mm/ad...   \n",
       "\n",
       "                                                              fmri_msdl  \\\n",
       "subject_id                                                                \n",
       "15680715926403849325  data/fmri/msdl/15680715926403849325/run_1/1568...   \n",
       "adhd499857            data/fmri_adhd/msdl/adhd499857/run_1/adhd49985...   \n",
       "11423075398546923195  data/fmri/msdl/11423075398546923195/run_1/1142...   \n",
       "228103336523884890    data/fmri/msdl/228103336523884890/run_1/228103...   \n",
       "adhd457366            data/fmri_adhd/msdl/adhd457366/run_1/adhd45736...   \n",
       "\n",
       "                                                        fmri_power_2011  \\\n",
       "subject_id                                                                \n",
       "15680715926403849325  data/fmri/power_2011/15680715926403849325/run_...   \n",
       "adhd499857            data/fmri_adhd/power_2011/adhd499857/run_1/adh...   \n",
       "11423075398546923195  data/fmri/power_2011/11423075398546923195/run_...   \n",
       "228103336523884890    data/fmri/power_2011/228103336523884890/run_1/...   \n",
       "adhd457366            data/fmri_adhd/power_2011/adhd457366/run_1/adh...   \n",
       "\n",
       "                                                           fmri_motions  \\\n",
       "subject_id                                                                \n",
       "15680715926403849325  data/fmri/motions/15680715926403849325/run_1/m...   \n",
       "adhd499857            data/fmri_adhd/motions/adhd499857/run_1/motion...   \n",
       "11423075398546923195  data/fmri/motions/11423075398546923195/run_1/m...   \n",
       "228103336523884890    data/fmri/motions/228103336523884890/run_1/mot...   \n",
       "adhd457366            data/fmri_adhd/motions/adhd457366/run_1/motion...   \n",
       "\n",
       "                      fmri_select  \n",
       "subject_id                         \n",
       "15680715926403849325            1  \n",
       "adhd499857                      1  \n",
       "11423075398546923195            1  \n",
       "228103336523884890              1  \n",
       "adhd457366                      1  "
      ]
     },
     "execution_count": 18,
     "metadata": {},
     "output_type": "execute_result"
    }
   ],
   "source": [
    "data_train_functional = data_train[[col for col in data_train.columns if col.startswith('fmri')]]\n",
    "data_train_functional.head()"
   ]
  },
  {
   "cell_type": "markdown",
   "metadata": {},
   "source": [
    "Unlike the anatomical and participants data, the available data are filename to CSV files in which the time-series information are stored. We show in the next section how to read and extract meaningful information from those data."
   ]
  },
  {
   "cell_type": "markdown",
   "metadata": {},
   "source": [
    "Similarly to the anatomical data, the column `fmri_select` gives information about the manual quality check."
   ]
  },
  {
   "cell_type": "code",
   "execution_count": 19,
   "metadata": {},
   "outputs": [
    {
     "data": {
      "text/plain": [
       "subject_id\n",
       "15680715926403849325    1\n",
       "adhd499857              1\n",
       "11423075398546923195    1\n",
       "228103336523884890      1\n",
       "adhd457366              1\n",
       "Name: fmri_select, dtype: int64"
      ]
     },
     "execution_count": 19,
     "metadata": {},
     "output_type": "execute_result"
    }
   ],
   "source": [
    "data_train_functional['fmri_select'].head()"
   ]
  },
  {
   "cell_type": "markdown",
   "metadata": {},
   "source": [
    "## Evaluations functions "
   ]
  },
  {
   "cell_type": "markdown",
   "metadata": {},
   "source": [
    "The framework is evaluated with a cross-validation approach. The metrics used are the AUC under the ROC and the accuracy."
   ]
  },
  {
   "cell_type": "code",
   "execution_count": 16,
   "metadata": {
    "scrolled": false
   },
   "outputs": [],
   "source": [
    "def evaluation(X, y):\n",
    "    pipe = make_pipeline(FeatureExtractor(), Classifier())\n",
    "    cv = get_cv(X, y)\n",
    "    results = cross_validate(pipe, X, y, scoring=('roc_auc', 'accuracy'), cv=cv,\n",
    "                             verbose=1, return_train_score=True,\n",
    "                             n_jobs=1)\n",
    "    \n",
    "    return results"
   ]
  },
  {
   "cell_type": "markdown",
   "metadata": {},
   "source": [
    "## Using only anatomical features"
   ]
  },
  {
   "cell_type": "markdown",
   "metadata": {},
   "source": [
    "#### FeatureExtractor"
   ]
  },
  {
   "cell_type": "markdown",
   "metadata": {},
   "source": [
    "The available structural data can be used directly to make some classification. In this regard, we will use a feature extractor (i.e. `FeatureExtractor`). This extractor will only select only the anatomical features, dropping any information regarding the fMRI-based features."
   ]
  },
  {
   "cell_type": "code",
   "execution_count": 17,
   "metadata": {},
   "outputs": [],
   "source": [
    "class FeatureExtractor(BaseEstimator, TransformerMixin):\n",
    "    def fit(self, X_df, y):\n",
    "        return self\n",
    "\n",
    "    def transform(self, X_df):\n",
    "        # get only the anatomical information\n",
    "        X = X_df[[col for col in X_df.columns if col.startswith('anatomy')]]\n",
    "        return X.drop(columns='anatomy_select')"
   ]
  },
  {
   "cell_type": "markdown",
   "metadata": {},
   "source": [
    "#### Classifier"
   ]
  },
  {
   "cell_type": "markdown",
   "metadata": {},
   "source": [
    "We propose to use a logistic classifier preceded from a scaler which will remove the mean and standard deviation computed on the training set."
   ]
  },
  {
   "cell_type": "code",
   "execution_count": 18,
   "metadata": {},
   "outputs": [],
   "source": [
    "class Classifier(BaseEstimator):\n",
    "    def __init__(self):\n",
    "        self.clf = make_pipeline(MinMaxScaler(), LogisticRegression())\n",
    "\n",
    "    def fit(self, X, y):\n",
    "        self.clf.fit(X, y)\n",
    "        self.classes_ = unique_labels(y)\n",
    "        return self\n",
    "        \n",
    "    def predict(self, X):\n",
    "        return self.clf.predict(X)\n",
    "\n",
    "    def predict_proba(self, X):\n",
    "        return self.clf.predict_proba(X)\n"
   ]
  },
  {
   "cell_type": "markdown",
   "metadata": {},
   "source": [
    "We can test locally our pipeline using `evaluation` function that we defined earlier."
   ]
  },
  {
   "cell_type": "code",
   "execution_count": 21,
   "metadata": {},
   "outputs": [
    {
     "name": "stderr",
     "output_type": "stream",
     "text": [
      "[Parallel(n_jobs=1)]: Using backend SequentialBackend with 1 concurrent workers.\n"
     ]
    },
    {
     "name": "stdout",
     "output_type": "stream",
     "text": [
      "Training score ROC-AUC: 0.784 +- 0.006\n",
      "Validation score ROC-AUC: 0.680 +- 0.029 \n",
      "\n",
      "Training score accuracy: 0.715 +- 0.004\n",
      "Validation score accuracy: 0.639 +- 0.019\n"
     ]
    },
    {
     "name": "stderr",
     "output_type": "stream",
     "text": [
      "[Parallel(n_jobs=1)]: Done   5 out of   5 | elapsed:    0.6s finished\n"
     ]
    }
   ],
   "source": [
    "results_anat = evaluation(data, labels)\n",
    "\n",
    "print(\"Training score ROC-AUC: {:.3f} +- {:.3f}\".format(np.mean(results_anat['train_roc_auc']),\n",
    "                                                        np.std(results_anat['train_roc_auc'])))\n",
    "print(\"Validation score ROC-AUC: {:.3f} +- {:.3f} \\n\".format(np.mean(results_anat['test_roc_auc']),\n",
    "                                                          np.std(results_anat['test_roc_auc'])))\n",
    "\n",
    "print(\"Training score accuracy: {:.3f} +- {:.3f}\".format(np.mean(results_anat['train_accuracy']),\n",
    "                                                         np.std(results_anat['train_accuracy'])))\n",
    "print(\"Validation score accuracy: {:.3f} +- {:.3f}\".format(np.mean(results_anat['test_accuracy']),\n",
    "                                                           np.std(results_anat['test_accuracy'])))"
   ]
  },
  {
   "cell_type": "markdown",
   "metadata": {},
   "source": [
    "## fMRI-derived features"
   ]
  },
  {
   "cell_type": "code",
   "execution_count": 97,
   "metadata": {},
   "outputs": [],
   "source": [
    "def _load_fmri(fmri_filenames):\n",
    "    \"\"\"Load time-series extracted from the fMRI using a specific atlas.\"\"\"\n",
    "    return np.array([pd.read_csv(subject_filename,\n",
    "                                 header=None).values\n",
    "                     for subject_filename in fmri_filenames])\n",
    "\n",
    "\n",
    "class FeatureExtractor(BaseEstimator, TransformerMixin):\n",
    "    def __init__(self):\n",
    "        # make a transformer which will load the time series and compute the\n",
    "        # connectome matrix\n",
    "        self.transformer_fmri = make_pipeline(\n",
    "            FunctionTransformer(func=_load_fmri, validate=False),\n",
    "            ConnectivityMeasure(kind='tangent', vectorize=True))\n",
    "        \n",
    "    def fit(self, X_df, y):\n",
    "        # get only the time series for the MSDL atlas\n",
    "        fmri_filenames = X_df['fmri_msdl']\n",
    "        self.transformer_fmri.fit(fmri_filenames, y)\n",
    "        return self\n",
    "\n",
    "    def transform(self, X_df):\n",
    "        fmri_filenames = X_df['fmri_msdl']\n",
    "        return self.transformer_fmri.transform(fmri_filenames)\n"
   ]
  },
  {
   "cell_type": "code",
   "execution_count": 98,
   "metadata": {},
   "outputs": [],
   "source": [
    "class Classifier(BaseEstimator):\n",
    "    def __init__(self):\n",
    "        self.clf = make_pipeline(StandardScaler(), LogisticRegression(C=1.))\n",
    "\n",
    "    def fit(self, X, y):\n",
    "        self.clf.fit(X, y)\n",
    "        self.classes_ = unique_labels(y)\n",
    "        return self\n",
    "       \n",
    "    def predict(self, X):\n",
    "        return self.clf.predict(X)\n",
    "\n",
    "    def predict_proba(self, X):\n",
    "        return self.clf.predict_proba(X)\n"
   ]
  },
  {
   "cell_type": "code",
   "execution_count": 100,
   "metadata": {},
   "outputs": [
    {
     "name": "stderr",
     "output_type": "stream",
     "text": [
      "[Parallel(n_jobs=1)]: Using backend SequentialBackend with 1 concurrent workers.\n"
     ]
    },
    {
     "name": "stdout",
     "output_type": "stream",
     "text": [
      "Training score ROC-AUC: 1.000 +- 0.000\n",
      "Validation score ROC-AUC: 0.599 +- 0.037 \n",
      "\n",
      "Training score accuracy: 1.000 +- 0.001\n",
      "Validation score accuracy: 0.584 +- 0.025\n"
     ]
    },
    {
     "name": "stderr",
     "output_type": "stream",
     "text": [
      "[Parallel(n_jobs=1)]: Done   8 out of   8 | elapsed:  3.4min finished\n"
     ]
    }
   ],
   "source": [
    "results = evaluation(data, labels)\n",
    "\n",
    "print(\"Training score ROC-AUC: {:.3f} +- {:.3f}\".format(np.mean(results['train_roc_auc']),\n",
    "                                                        np.std(results['train_roc_auc'])))\n",
    "print(\"Validation score ROC-AUC: {:.3f} +- {:.3f} \\n\".format(np.mean(results['test_roc_auc']),\n",
    "                                                          np.std(results['test_roc_auc'])))\n",
    "\n",
    "print(\"Training score accuracy: {:.3f} +- {:.3f}\".format(np.mean(results['train_accuracy']),\n",
    "                                                         np.std(results['train_accuracy'])))\n",
    "print(\"Validation score accuracy: {:.3f} +- {:.3f}\".format(np.mean(results['test_accuracy']),\n",
    "                                                           np.std(results['test_accuracy'])))"
   ]
  },
  {
   "cell_type": "markdown",
   "metadata": {},
   "source": [
    "## More elaborate pipeline: combining anatomy and fMRI"
   ]
  },
  {
   "cell_type": "code",
   "execution_count": 109,
   "metadata": {},
   "outputs": [],
   "source": [
    "def _load_fmri(fmri_filenames):\n",
    "    \"\"\"Load time-series extracted from the fMRI using a specific atlas.\"\"\"\n",
    "    return np.array([pd.read_csv(subject_filename,\n",
    "                                 header=None).values\n",
    "                     for subject_filename in fmri_filenames])\n",
    "\n",
    "\n",
    "class FeatureExtractor(BaseEstimator, TransformerMixin):\n",
    "    def __init__(self):\n",
    "        # make a transformer which will load the time series and compute the\n",
    "        # connectome matrix\n",
    "        self.transformer_fmri = make_pipeline(\n",
    "            FunctionTransformer(func=_load_fmri, validate=False),\n",
    "            ConnectivityMeasure(kind='tangent', vectorize=True))\n",
    "    \n",
    "    def fit(self, X_df, y):\n",
    "        fmri_filenames = X_df['fmri_msdl']\n",
    "        self.transformer_fmri.fit(fmri_filenames, y)\n",
    "        return self\n",
    "\n",
    "    def transform(self, X_df):\n",
    "        fmri_filenames = X_df['fmri_msdl']\n",
    "        X_connectome = self.transformer_fmri.transform(fmri_filenames)\n",
    "        X_connectome = pd.DataFrame(X_connectome, index=X_df.index)\n",
    "        X_connectome.columns = ['connectome_{}'.format(i)\n",
    "                                for i in range(X_connectome.columns.size)]\n",
    "        # get the anatomical information\n",
    "        X_anatomy = X_df[[col for col in X_df.columns\n",
    "                          if col.startswith('anatomy')]]\n",
    "        X_anatomy = X_anatomy.drop(columns='anatomy_select')\n",
    "        # concatenate both matrices\n",
    "        return pd.concat([X_connectome, X_anatomy], axis=1)\n"
   ]
  },
  {
   "cell_type": "markdown",
   "metadata": {},
   "source": [
    "We will create a classifier (i.e. a random forest classifier) which will used both connectome and anatomical features."
   ]
  },
  {
   "cell_type": "code",
   "execution_count": 110,
   "metadata": {},
   "outputs": [],
   "source": [
    "class Classifier(BaseEstimator):\n",
    "    def __init__(self):\n",
    "        self.clf = RandomForestClassifier(n_estimators=100, n_jobs=-1)\n",
    "\n",
    "    def fit(self, X, y):\n",
    "        self.clf.fit(X, y)\n",
    "        self.classes_ = unique_labels(y)\n",
    "        return self\n",
    "    \n",
    "    def predict(self, X):\n",
    "        return self.clf.predict(X)\n",
    "\n",
    "    def predict_proba(self, X):\n",
    "        return self.clf.predict_proba(X)\n"
   ]
  },
  {
   "cell_type": "code",
   "execution_count": 111,
   "metadata": {},
   "outputs": [
    {
     "name": "stderr",
     "output_type": "stream",
     "text": [
      "[Parallel(n_jobs=1)]: Using backend SequentialBackend with 1 concurrent workers.\n"
     ]
    },
    {
     "name": "stdout",
     "output_type": "stream",
     "text": [
      "Training score ROC-AUC: 1.000 +- 0.000\n",
      "Validation score ROC-AUC: 0.678 +- 0.017 \n",
      "\n",
      "Training score accuracy: 1.000 +- 0.000\n",
      "Validation score accuracy: 0.627 +- 0.020\n"
     ]
    },
    {
     "name": "stderr",
     "output_type": "stream",
     "text": [
      "[Parallel(n_jobs=1)]: Done   8 out of   8 | elapsed:  3.7min finished\n"
     ]
    }
   ],
   "source": [
    "results = evaluation(data, labels)\n",
    "\n",
    "print(\"Training score ROC-AUC: {:.3f} +- {:.3f}\".format(np.mean(results['train_roc_auc']),\n",
    "                                                        np.std(results['train_roc_auc'])))\n",
    "print(\"Validation score ROC-AUC: {:.3f} +- {:.3f} \\n\".format(np.mean(results['test_roc_auc']),\n",
    "                                                          np.std(results['test_roc_auc'])))\n",
    "\n",
    "print(\"Training score accuracy: {:.3f} +- {:.3f}\".format(np.mean(results['train_accuracy']),\n",
    "                                                         np.std(results['train_accuracy'])))\n",
    "print(\"Validation score accuracy: {:.3f} +- {:.3f}\".format(np.mean(results['test_accuracy']),\n",
    "                                                           np.std(results['test_accuracy'])))"
   ]
  },
  {
   "cell_type": "markdown",
   "metadata": {},
   "source": [
    "We can propose a\n",
    "more complex classifier than the previous one. We will train 2 single classifiers independetly on the sMRI-derived and fMRI-derived features. Then, a meta-classifier will be used to combine both information. We left out some data to be able to train the meta-classifier."
   ]
  },
  {
   "cell_type": "code",
   "execution_count": 112,
   "metadata": {},
   "outputs": [],
   "source": [
    "class Classifier(BaseEstimator):\n",
    "    def __init__(self):\n",
    "        self.clf_connectome = make_pipeline(StandardScaler(),\n",
    "                                            LogisticRegression(C=1.))\n",
    "        self.clf_anatomy = make_pipeline(StandardScaler(),\n",
    "                                         LogisticRegression(C=1.))\n",
    "        self.meta_clf = LogisticRegression(C=1.)\n",
    "\n",
    "    def fit(self, X, y):\n",
    "        X_anatomy = X[[col for col in X.columns if col.startswith('anatomy')]]\n",
    "        X_connectome = X[[col for col in X.columns\n",
    "                          if col.startswith('connectome')]]\n",
    "        train_idx, validation_idx = train_test_split(range(y.size),\n",
    "                                                     test_size=0.33,\n",
    "                                                     shuffle=True,\n",
    "                                                     random_state=42)\n",
    "        X_anatomy_train = X_anatomy.iloc[train_idx]\n",
    "        X_anatomy_validation = X_anatomy.iloc[validation_idx]\n",
    "        X_connectome_train = X_connectome.iloc[train_idx]\n",
    "        X_connectome_validation = X_connectome.iloc[validation_idx]\n",
    "        y_train = y[train_idx]\n",
    "        y_validation = y[validation_idx]\n",
    "\n",
    "        self.clf_connectome.fit(X_connectome_train, y_train)\n",
    "        self.clf_anatomy.fit(X_anatomy_train, y_train)\n",
    "\n",
    "        y_connectome_pred = self.clf_connectome.predict_proba(\n",
    "            X_connectome_validation)\n",
    "        y_anatomy_pred = self.clf_anatomy.predict_proba(\n",
    "            X_anatomy_validation)\n",
    "\n",
    "        self.meta_clf.fit(\n",
    "            np.concatenate([y_connectome_pred, y_anatomy_pred], axis=1),\n",
    "            y_validation)\n",
    "        self.classes_ = unique_labels(y)\n",
    "        return self\n",
    "    \n",
    "    def predict(self, X):\n",
    "        X_anatomy = X[[col for col in X.columns if col.startswith('anatomy')]]\n",
    "        X_connectome = X[[col for col in X.columns\n",
    "                          if col.startswith('connectome')]]\n",
    "\n",
    "        y_anatomy_pred = self.clf_anatomy.predict_proba(X_anatomy)\n",
    "        y_connectome_pred = self.clf_connectome.predict_proba(X_connectome)\n",
    "\n",
    "        return self.meta_clf.predict(\n",
    "            np.concatenate([y_connectome_pred, y_anatomy_pred], axis=1))\n",
    "\n",
    "    def predict_proba(self, X):\n",
    "        X_anatomy = X[[col for col in X.columns if col.startswith('anatomy')]]\n",
    "        X_connectome = X[[col for col in X.columns\n",
    "                          if col.startswith('connectome')]]\n",
    "\n",
    "        y_anatomy_pred = self.clf_anatomy.predict_proba(X_anatomy)\n",
    "        y_connectome_pred = self.clf_connectome.predict_proba(X_connectome)\n",
    "\n",
    "        return self.meta_clf.predict_proba(\n",
    "            np.concatenate([y_connectome_pred, y_anatomy_pred], axis=1))\n"
   ]
  },
  {
   "cell_type": "code",
   "execution_count": 113,
   "metadata": {},
   "outputs": [
    {
     "name": "stderr",
     "output_type": "stream",
     "text": [
      "[Parallel(n_jobs=1)]: Using backend SequentialBackend with 1 concurrent workers.\n"
     ]
    },
    {
     "name": "stdout",
     "output_type": "stream",
     "text": [
      "Training score ROC-AUC: 0.890 +- 0.024\n",
      "Validation score ROC-AUC: 0.660 +- 0.046 \n",
      "\n",
      "Training score accuracy: 0.806 +- 0.037\n",
      "Validation score accuracy: 0.618 +- 0.025\n"
     ]
    },
    {
     "name": "stderr",
     "output_type": "stream",
     "text": [
      "[Parallel(n_jobs=1)]: Done   8 out of   8 | elapsed:  3.6min finished\n"
     ]
    }
   ],
   "source": [
    "results = evaluation(data, labels)\n",
    "\n",
    "print(\"Training score ROC-AUC: {:.3f} +- {:.3f}\".format(np.mean(results['train_roc_auc']),\n",
    "                                                        np.std(results['train_roc_auc'])))\n",
    "print(\"Validation score ROC-AUC: {:.3f} +- {:.3f} \\n\".format(np.mean(results['test_roc_auc']),\n",
    "                                                          np.std(results['test_roc_auc'])))\n",
    "\n",
    "print(\"Training score accuracy: {:.3f} +- {:.3f}\".format(np.mean(results['train_accuracy']),\n",
    "                                                         np.std(results['train_accuracy'])))\n",
    "print(\"Validation score accuracy: {:.3f} +- {:.3f}\".format(np.mean(results['test_accuracy']),\n",
    "                                                           np.std(results['test_accuracy'])))"
   ]
  }
 ],
 "metadata": {
  "celltoolbar": "Raw Cell Format",
  "kernelspec": {
   "display_name": "Python 3 (ipykernel)",
   "language": "python",
   "name": "python3"
  },
  "language_info": {
   "codemirror_mode": {
    "name": "ipython",
    "version": 3
   },
   "file_extension": ".py",
   "mimetype": "text/x-python",
   "name": "python",
   "nbconvert_exporter": "python",
   "pygments_lexer": "ipython3",
   "version": "3.10.0"
  }
 },
 "nbformat": 4,
 "nbformat_minor": 2
}
